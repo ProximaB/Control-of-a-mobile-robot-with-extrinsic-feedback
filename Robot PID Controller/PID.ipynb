{
 "cells": [
  {
   "cell_type": "code",
   "execution_count": 1,
   "metadata": {},
   "outputs": [],
   "source": [
    "import time\n",
    "\n",
    "class PID:\n",
    "    \"\"\"PID Controller\n",
    "    \"\"\"\n",
    "\n",
    "    def __init__(self, P=0.2, I=0.0, D=0.0):\n",
    "\n",
    "        self.Kp = P\n",
    "        self.Ki = I\n",
    "        self.Kd = D\n",
    "\n",
    "        self.sample_time = 0.00\n",
    "        self.current_time = time.time()\n",
    "        self.last_time = self.current_time\n",
    "\n",
    "        self.clear()\n",
    "\n",
    "    def clear(self):\n",
    "        \"\"\"Clears PID computations and coefficients\"\"\"\n",
    "        self.SetPoint = 0.0\n",
    "\n",
    "        self.PTerm = 0.0\n",
    "        self.ITerm = 0.0\n",
    "        self.DTerm = 0.0\n",
    "        self.last_error = 0.0\n",
    "\n",
    "        # Windup Guard\n",
    "        self.int_error = 0.0\n",
    "        self.windup_guard = 20.0\n",
    "\n",
    "        self.output = 0.0\n",
    "        \n",
    "    def update(self, feedback_value):\n",
    "            \"\"\"Calculates PID value for given reference feedback\n",
    "            .. math::\n",
    "                u(t) = K_p e(t) + K_i \\int_{0}^{t} e(t)dt + K_d {de}/{dt}\n",
    "            .. figure:: images/pid_1.png\n",
    "               :align:   center\n",
    "               Test PID with Kp=1.2, Ki=1, Kd=0.001 (test_pid.py)\n",
    "            \"\"\"\n",
    "            error = self.SetPoint - feedback_value\n",
    "\n",
    "            self.current_time = time.time()\n",
    "            delta_time = self.current_time - self.last_time\n",
    "            delta_error = error - self.last_error\n",
    "\n",
    "            if (delta_time >= self.sample_time):\n",
    "                self.PTerm = self.Kp * error\n",
    "                self.ITerm += error * delta_time\n",
    "\n",
    "                if (self.ITerm < -self.windup_guard):\n",
    "                    self.ITerm = -self.windup_guard\n",
    "                elif (self.ITerm > self.windup_guard):\n",
    "                    self.ITerm = self.windup_guard\n",
    "\n",
    "                self.DTerm = 0.0\n",
    "                if delta_time > 0:\n",
    "                    self.DTerm = delta_error / delta_time\n",
    "\n",
    "                # Remember last time and last error for next calculation\n",
    "                self.last_time = self.current_time\n",
    "                self.last_error = error\n",
    "\n",
    "                self.output = self.PTerm + (self.Ki * self.ITerm) + (self.Kd * self.DTerm)\n",
    "                \n",
    "    def setKp(self, proportional_gain):\n",
    "        \"\"\"Determines how aggressively the PID reacts to the current error with setting Proportional Gain\"\"\"\n",
    "        self.Kp = proportional_gain\n",
    "\n",
    "    def setKi(self, integral_gain):\n",
    "        \"\"\"Determines how aggressively the PID reacts to the current error with setting Integral Gain\"\"\"\n",
    "        self.Ki = integral_gain\n",
    "\n",
    "    def setKd(self, derivative_gain):\n",
    "        \"\"\"Determines how aggressively the PID reacts to the current error with setting Derivative Gain\"\"\"\n",
    "        self.Kd = derivative_gain\n",
    "\n",
    "    def setWindup(self, windup):\n",
    "        \"\"\"Integral windup, also known as integrator windup or reset windup,\n",
    "        refers to the situation in a PID feedback controller where\n",
    "        a large change in setpoint occurs (say a positive change)\n",
    "        and the integral terms accumulates a significant error\n",
    "        during the rise (windup), thus overshooting and continuing\n",
    "        to increase as this accumulated error is unwound\n",
    "        (offset by errors in the other direction).\n",
    "        The specific problem is the excess overshooting.\n",
    "        \"\"\"\n",
    "        self.windup_guard = windup\n",
    "\n",
    "    def setSampleTime(self, sample_time):\n",
    "        \"\"\"PID that should be updated at a regular interval.\n",
    "        Based on a pre-determined sampe time, the PID decides if it should compute or return immediately.\n",
    "        \"\"\"\n",
    "        self.sample_time = sample_time"
   ]
  },
  {
   "cell_type": "code",
   "execution_count": 2,
   "metadata": {},
   "outputs": [],
   "source": [
    "pid = PID(P=0.2, I=0, D=0.0)\n",
    "pid.update(0)"
   ]
  },
  {
   "cell_type": "code",
   "execution_count": 3,
   "metadata": {},
   "outputs": [
    {
     "data": {
      "text/plain": [
       "{'Kp': 0.2,\n",
       " 'Ki': 0,\n",
       " 'Kd': 0.0,\n",
       " 'sample_time': 0.0,\n",
       " 'current_time': 1544127776.6340983,\n",
       " 'last_time': 1544127776.6340983,\n",
       " 'SetPoint': 0.0,\n",
       " 'PTerm': 0.0,\n",
       " 'ITerm': 0.0,\n",
       " 'DTerm': 0.0,\n",
       " 'last_error': 0.0,\n",
       " 'int_error': 0.0,\n",
       " 'windup_guard': 20.0,\n",
       " 'output': 0.0}"
      ]
     },
     "execution_count": 3,
     "metadata": {},
     "output_type": "execute_result"
    }
   ],
   "source": [
    "pid.__dict__ # prev 0"
   ]
  },
  {
   "cell_type": "code",
   "execution_count": 4,
   "metadata": {},
   "outputs": [
    {
     "data": {
      "text/plain": [
       "{'Kp': 0.2,\n",
       " 'Ki': 0,\n",
       " 'Kd': 0.0,\n",
       " 'sample_time': 0.0,\n",
       " 'current_time': 1544127777.8984227,\n",
       " 'last_time': 1544127777.8984227,\n",
       " 'SetPoint': 0.0,\n",
       " 'PTerm': -2.0,\n",
       " 'ITerm': -12.64324426651001,\n",
       " 'DTerm': -7.909362335495207,\n",
       " 'last_error': -10.0,\n",
       " 'int_error': 0.0,\n",
       " 'windup_guard': 20.0,\n",
       " 'output': -2.0}"
      ]
     },
     "execution_count": 4,
     "metadata": {},
     "output_type": "execute_result"
    }
   ],
   "source": [
    "pid.update(10)\n",
    "pid.__dict__ # prev 10"
   ]
  },
  {
   "cell_type": "code",
   "execution_count": 5,
   "metadata": {},
   "outputs": [
    {
     "data": {
      "text/plain": [
       "{'Kp': 0.2,\n",
       " 'Ki': 0,\n",
       " 'Kd': 0.0,\n",
       " 'sample_time': 0.0,\n",
       " 'current_time': 1544127778.426178,\n",
       " 'last_time': 1544127778.426178,\n",
       " 'SetPoint': 0.0,\n",
       " 'PTerm': -20.0,\n",
       " 'ITerm': -20.0,\n",
       " 'DTerm': -170.53359149896593,\n",
       " 'last_error': -100.0,\n",
       " 'int_error': 0.0,\n",
       " 'windup_guard': 20.0,\n",
       " 'output': -20.0}"
      ]
     },
     "execution_count": 5,
     "metadata": {},
     "output_type": "execute_result"
    }
   ],
   "source": [
    "pid.update(100)\n",
    "pid.__dict__ # prev 100"
   ]
  },
  {
   "cell_type": "code",
   "execution_count": null,
   "metadata": {},
   "outputs": [],
   "source": []
  },
  {
   "cell_type": "code",
   "execution_count": 70,
   "metadata": {},
   "outputs": [
    {
     "data": {
      "image/png": "[encoded data removed]",
      "text/plain": [
       "<Figure size 432x288 with 1 Axes>"
      ]
     },
     "metadata": {
      "needs_background": "light"
     },
     "output_type": "display_data"
    }
   ],
   "source": [
    "import time\n",
    "import matplotlib.pyplot as plt\n",
    "import numpy as np\n",
    "#from scipy.interpolate import spline\n",
    "from scipy.interpolate import BSpline, make_interp_spline #  Switched to BSpline\n",
    "\n",
    "def test_pid(P = 0.2,  I = 0.0, D= 0.0, L=100):\n",
    "    \"\"\"Self-test PID class\n",
    "    .. note::\n",
    "        ...\n",
    "        for i in range(1, END):\n",
    "            pid.update(feedback)\n",
    "            output = pid.output\n",
    "            if pid.SetPoint > 0:\n",
    "                feedback += (output - (1/i))\n",
    "            if i>9:\n",
    "                pid.SetPoint = 1\n",
    "            time.sleep(0.02)\n",
    "        ---\n",
    "    \"\"\"\n",
    "    pid = PID(P, I, D)\n",
    "\n",
    "    pid.SetPoint=0.0\n",
    "    pid.setSampleTime(0.01)\n",
    "\n",
    "    END = L\n",
    "    feedback = 0\n",
    "\n",
    "    feedback_list = []\n",
    "    time_list = []\n",
    "    setpoint_list = []\n",
    "\n",
    "    for i in range(1, END):\n",
    "        pid.update(feedback)\n",
    "        output = pid.output\n",
    "        if pid.SetPoint > 0:\n",
    "            feedback += (output - (1/i))\n",
    "        if i>9:\n",
    "            pid.SetPoint = 1\n",
    "        time.sleep(0.02)\n",
    "\n",
    "        feedback_list.append(feedback)\n",
    "        setpoint_list.append(pid.SetPoint)\n",
    "        time_list.append(i)\n",
    "\n",
    "    time_sm = np.array(time_list)\n",
    "    time_smooth = np.linspace(time_sm.min(), time_sm.max(), 300)\n",
    "\n",
    "    # feedback_smooth = spline(time_list, feedback_list, time_smooth)\n",
    "    # Using make_interp_spline to create BSpline\n",
    "    helper_x3 = make_interp_spline(time_list, feedback_list)\n",
    "    feedback_smooth = helper_x3(time_smooth)\n",
    "\n",
    "    plt.plot(time_smooth, feedback_smooth)\n",
    "    plt.plot(time_list, setpoint_list)\n",
    "    plt.xlim((0, L))\n",
    "    plt.ylim((min(feedback_list)-0.5, max(feedback_list)+0.5))\n",
    "    plt.xlabel('time (s)')\n",
    "    plt.ylabel('PID (PV)')\n",
    "    plt.title('TEST PID')\n",
    "\n",
    "    plt.ylim((1-0.5, 1+0.5))\n",
    "\n",
    "    plt.grid(True)\n",
    "    plt.show()\n",
    "\n",
    "if __name__ == \"__main__\":\n",
    "    test_pid(1.2, 1, 0.001, L=50)\n",
    "#    test_pid(0.8, L=50)"
   ]
  },
  {
   "cell_type": "code",
   "execution_count": null,
   "metadata": {},
   "outputs": [],
   "source": []
  }
 ],
 "metadata": {
  "kernelspec": {
   "display_name": "Python 3",
   "language": "python",
   "name": "python3"
  },
  "language_info": {
   "codemirror_mode": {
    "name": "ipython",
    "version": 3
   },
   "file_extension": ".py",
   "mimetype": "text/x-python",
   "name": "python",
   "nbconvert_exporter": "python",
   "pygments_lexer": "ipython3",
   "version": "3.6.7"
  }
 },
 "nbformat": 4,
 "nbformat_minor": 2
}
