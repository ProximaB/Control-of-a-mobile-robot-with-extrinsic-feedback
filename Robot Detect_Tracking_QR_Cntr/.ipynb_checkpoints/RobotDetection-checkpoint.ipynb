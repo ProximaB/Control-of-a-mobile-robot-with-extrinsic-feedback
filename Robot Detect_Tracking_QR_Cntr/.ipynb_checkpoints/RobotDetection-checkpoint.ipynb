{
 "cells": [
  {
   "cell_type": "code",
   "execution_count": 1,
   "metadata": {},
   "outputs": [],
   "source": [
    "import argparse\n",
    "import time\n",
    "import cv2\n",
    "import math\n",
    "import numpy as np\n",
    "from pyzbar import pyzbar\n",
    "import imutils"
   ]
  },
  {
   "cell_type": "code",
   "execution_count": 2,
   "metadata": {},
   "outputs": [],
   "source": [
    "def distance(point_x, point_y):\n",
    "    \"\"\" Calculate distance between two points. \"\"\"\n",
    "    return math.sqrt(math.pow(math.fabs(point_x[0]-point_y[0]), 2) +\n",
    "                     math.pow(math.fabs(point_x[1]-point_y[1]), 2))"
   ]
  },
  {
   "cell_type": "code",
   "execution_count": 4,
   "metadata": {},
   "outputs": [],
   "source": [
    "def line_equation(point_l, point_m, point_j):\n",
    "    \"\"\" Calculate distance between line (passing thorugh point l and point m) and point j \"\"\"\n",
    "    \n",
    "    # We calculate coefficients 'a' for line passing through points l and m thus we calculate 'c' by\n",
    "    # using formula: y = ax + c =  > c = ax - y \"\"\"\n",
    "    coef_a = -((point_m[1] - point_l[1])/(point_m[0] - point_l[0]))\n",
    "    coef_b = 1.0\n",
    "    # We use ax + by + c = 0 reprezentation, beacuse it's then we check if a point is on line,\n",
    "    # or if it is above or below line.\n",
    "    coef_c = (((point_m[1] - point_l[1])/(point_m[0] - point_l[0]))\n",
    "              * point_l[0]) - point_l[1]\n",
    "    try:\n",
    "        # calculate ax + by + c, the value is one cathetus ofrectangular triangle,\n",
    "        # the second is perpendicular to line, and therefore it's the distance form the\n",
    "        # point to line, we calculate it by divide hypotenuse by cathetus\n",
    "        pdist = (coef_a*point_j[0]+(coef_b*point_j[1]) +\n",
    "                 coef_c)/math.sqrt((coef_a*coef_a)+(coef_b*coef_b))\n",
    "    except():\n",
    "        return 0\n",
    "    else:\n",
    "        return pdist\n",
    "\n"
   ]
  },
  {
   "cell_type": "code",
   "execution_count": 5,
   "metadata": {},
   "outputs": [],
   "source": [
    "def line_slope(l, m):\n",
    "    ''' Wspólczynnik kierunkowy / pochodna funkcji. Slope/ Implementation of function derivative dy/dx'''\n",
    "    dx = m[0] - l[0]\n",
    "    dy = m[1] - l[1]\n",
    "    if dy != 0:\n",
    "        align = 1 \n",
    "        dxy = dy/dx\n",
    "        return dxy, align\n",
    "    else:\n",
    "        align = 0\n",
    "        dxy = 0.0\n",
    "        return dxy, align"
   ]
  },
  {
   "cell_type": "code",
   "execution_count": null,
   "metadata": {},
   "outputs": [],
   "source": [
    "def get_squares(contours, cid):\n",
    "    x, y, w, h = cv2.boundingRect(contours[cid])\n",
    "    return x, y, w, h\n"
   ]
  }
 ],
 "metadata": {
  "kernelspec": {
   "display_name": "Python 3",
   "language": "python",
   "name": "python3"
  },
  "language_info": {
   "codemirror_mode": {
    "name": "ipython",
    "version": 3
   },
   "file_extension": ".py",
   "mimetype": "text/x-python",
   "name": "python",
   "nbconvert_exporter": "python",
   "pygments_lexer": "ipython3",
   "version": "3.6.5"
  }
 },
 "nbformat": 4,
 "nbformat_minor": 2
}
