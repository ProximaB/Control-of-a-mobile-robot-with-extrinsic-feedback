{
 "cells": [
  {
   "cell_type": "code",
   "execution_count": 34,
   "metadata": {},
   "outputs": [],
   "source": [
    "import argparse\n",
    "import time\n",
    "import cv2\n",
    "import math\n",
    "import numpy as np\n",
    "from pyzbar import pyzbar\n",
    "import imutils"
   ]
  },
  {
   "cell_type": "code",
   "execution_count": 35,
   "metadata": {},
   "outputs": [],
   "source": [
    "def distance(point_x, point_y):\n",
    "    \"\"\" Calculate distance between two points. \"\"\"\n",
    "    return math.sqrt(math.pow(math.fabs(point_x[0]-point_y[0]), 2) + math.pow(math.fabs(point_x[1]-point_y[1]), 2))"
   ]
  },
  {
   "cell_type": "code",
   "execution_count": 36,
   "metadata": {},
   "outputs": [],
   "source": [
    "import sys\n",
    "def line_equation(point_l, point_m, point_j):\n",
    "    \"\"\" Calculate distance between line (passing thorugh point l and point m) and point j \"\"\"\n",
    "    \n",
    "    # We calculate coefficients 'a' for line passing through points l and m thus we calculate 'c' by\n",
    "    # using formula: y = ax + c =  > c = ax - y \"\"\"\n",
    "    dif = (point_m[0] - point_l[0])\n",
    "    if dif == 0: dif = sys.maxsize\n",
    "        \n",
    "    coef_a = -((point_m[1] - point_l[1])/dif)\n",
    "    coef_b = 1.0\n",
    "    # We use ax + by + c = 0 reprezentation, beacuse it's then we check if a point is on line,\n",
    "    # or if it is above or below line.\n",
    "    coef_c = (((point_m[1] - point_l[1])/dif)\n",
    "              * point_l[0]) - point_l[1]\n",
    "    try:\n",
    "        # calculate ax + by + c, the value is one cathetus ofrectangular triangle,\n",
    "        # the second is perpendicular to line, and therefore it's the distance form the\n",
    "        # point to line, we calculate it by divide hypotenuse by cathetus\n",
    "        pdist = (coef_a*point_j[0]+(coef_b*point_j[1]) +\n",
    "                 coef_c)/math.sqrt((coef_a*coef_a)+(coef_b*coef_b))\n",
    "    except():\n",
    "        return 0\n",
    "    else:\n",
    "        return pdist\n",
    "\n"
   ]
  },
  {
   "cell_type": "code",
   "execution_count": 37,
   "metadata": {},
   "outputs": [],
   "source": [
    "def line_slope(l, m):\n",
    "    ''' Wspólczynnik kierunkowy / pochodna funkcji. Slope/ Implementation of function derivative dy/dx'''\n",
    "    dx = m[0] - l[0]\n",
    "    dy = m[1] - l[1]\n",
    "    if dy != 0:\n",
    "        align = 1 \n",
    "        dxy = dy/dx\n",
    "        return dxy, align\n",
    "    else:\n",
    "        align = 0\n",
    "        dxy = 0.0\n",
    "        return dxy, align"
   ]
  },
  {
   "cell_type": "code",
   "execution_count": 38,
   "metadata": {},
   "outputs": [],
   "source": [
    "def get_squares(contours, cid):\n",
    "    x, y, w, h = cv2.boundingRect(contours[cid])\n",
    "    return x, y, w, h"
   ]
  },
  {
   "cell_type": "code",
   "execution_count": 39,
   "metadata": {},
   "outputs": [],
   "source": [
    "def update_corner(p, ref, baseline, corner):\n",
    "    '''Update given baseline and corner if distance from p to red is greater'''\n",
    "    temp_dist = distance(p, ref)\n",
    "    if temp_dist > baseline:\n",
    "        baseline = temp_dist\n",
    "        corner = p\n",
    "    return baseline, corner"
   ]
  },
  {
   "cell_type": "code",
   "execution_count": 40,
   "metadata": {},
   "outputs": [],
   "source": [
    "def get_vertices(contours, cid, slope, quad):\n",
    "    ''' Foreach contours return verticies of each rect closest to contour blablah..'''\n",
    "    M0 = (0.0, 0.0)\n",
    "    M1 = (0.0, 0.0)\n",
    "    M2 = (0.0, 0.0)\n",
    "    M3 = (0.0, 0.0)\n",
    "    x, y, w, h = cv2.boundingRect(contours[cid])\n",
    "    A = (x, y) # Bottom left\n",
    "    B = (x+w, y) #  Bottom righnt\n",
    "    C = (x+w, h+y) # top right\n",
    "    D = (x, y+h) # Top left\n",
    "    W = ((A[0]+B[0])/2, A[1])\n",
    "    X = (B[0], (B[1]+C[1])/2)\n",
    "    Y = ((C[0]+D[0])/2, C[1])\n",
    "    Z = (D[0], (D[1]+A[1])/2)\n",
    "    dmax = []\n",
    "    for i in range(4):\n",
    "        dmax.append(0.0)\n",
    "    pd1 = 0.0\n",
    "    pd2 = 0.0\n",
    "    if(slope > 5 or slope < -5): # atan(1)->45deg, atan(5) -> 78deg\n",
    "        for i in range(len(contours[cid])):\n",
    "            pd1 = line_equation(C, A, contours[cid][i][0])\n",
    "            pd2 = line_equation(B, D, contours[cid][i][0])\n",
    "            if(pd1 >= 0.0 and pd2 > 0.0): # Dolny Prawy\n",
    "                dmax[1], M1 = update_corner(contours[cid][i][0], W, dmax[1], M1)\n",
    "            elif(pd1 > 0.0 and pd2 <= 0): # Dolny Lewy\n",
    "                dmax[2], M2 = update_corner(contours[cid][i][0], X, dmax[2], M2)\n",
    "            elif(pd1 <= 0.0 and pd2 < 0.0): # Górny Lewy\n",
    "                dmax[3], M3 = update_corner(contours[cid][i][0], Y, dmax[3], M3)\n",
    "            elif(pd1 < 0 and pd2 >= 0.0): #Górny Prawy\n",
    "                dmax[0], M0 = update_corner(contours[cid][i][0], Z, dmax[0], M0)\n",
    "            else:\n",
    "                continue\n",
    "    else:\n",
    "        halfx = (A[0]+B[0])/2\n",
    "        halfy = (A[1]+D[1])/2\n",
    "        for i in range(len(contours[cid])):\n",
    "            if(contours[cid][i][0][0] < halfx and contours[cid][i][0][1] <= halfy):\n",
    "                dmax[2], M0 = update_corner(\n",
    "                    contours[cid][i][0], C, dmax[2], M0)\n",
    "            elif(contours[cid][i][0][0] >= halfx and contours[cid][i][0][1] < halfy):\n",
    "                dmax[3], M1 = update_corner(\n",
    "                    contours[cid][i][0], D, dmax[3], M1)\n",
    "            elif(contours[cid][i][0][0] > halfx and contours[cid][i][0][1] >= halfy):\n",
    "                dmax[0], M2 = update_corner(\n",
    "                    contours[cid][i][0], A, dmax[0], M2)\n",
    "            elif(contours[cid][i][0][0] <= halfx and contours[cid][i][0][1] > halfy):\n",
    "                dmax[1], M3 = update_corner(\n",
    "                    contours[cid][i][0], B, dmax[1], M3)\n",
    "    quad.append(M0)\n",
    "    quad.append(M1)\n",
    "    quad.append(M2)\n",
    "    quad.append(M3)\n",
    "    return quad"
   ]
  },
  {
   "cell_type": "code",
   "execution_count": 41,
   "metadata": {},
   "outputs": [],
   "source": [
    "def update_corner_or(orientation, IN):\n",
    "    if orientation == 0:\n",
    "        M0 = IN[0]\n",
    "        M1 = IN[1]\n",
    "        M2 = IN[2]\n",
    "        M3 = IN[3]\n",
    "    elif orientation == 1:\n",
    "        M0 = IN[1]\n",
    "        M1 = IN[2]\n",
    "        M2 = IN[3]\n",
    "        M3 = IN[0]\n",
    "    elif orientation == 2:\n",
    "        M0 = IN[2]\n",
    "        M1 = IN[3]\n",
    "        M2 = IN[0]\n",
    "        M3 = IN[1]\n",
    "    elif orientation == 3:\n",
    "        M0 = IN[3]\n",
    "        M1 = IN[0]\n",
    "        M2 = IN[1]\n",
    "        M3 = IN[2]\n",
    "        \n",
    "    OUT = []\n",
    "    OUT.append(M0)\n",
    "    OUT.append(M1)\n",
    "    OUT.append(M2)\n",
    "    OUT.append(M3)\n",
    "\n",
    "    return OUT"
   ]
  },
  {
   "cell_type": "code",
   "execution_count": 42,
   "metadata": {},
   "outputs": [],
   "source": [
    "def cross(v1, v2):\n",
    "    cr = v1[0]*v2[1] - v1[1]*v2[0]\n",
    "    return cr"
   ]
  },
  {
   "cell_type": "code",
   "execution_count": 43,
   "metadata": {},
   "outputs": [],
   "source": [
    "def get_intersection(a1, a2, b1, b2, intersection):\n",
    "    p = a1\n",
    "    q = b1\n",
    "    r = (a2[0]-a1[0], a2[1]-a1[1])\n",
    "    s = (b2[0]-b1[0], b2[1]-b1[1])\n",
    "    if cross(r, s) == 0:\n",
    "        return False, intersection\n",
    "    t = cross((q[0]-p[0], q[1]-p[1]), s)/float(cross(r, s))\n",
    "    intersection = (int(p[0]+(t*r[0])), int(p[1]+(t*r[1])))\n",
    "    return True, intersection"
   ]
  },
  {
   "cell_type": "code",
   "execution_count": 44,
   "metadata": {},
   "outputs": [],
   "source": [
    "def order_points(pts):\n",
    "    # initialzie a list of coordinates that will be ordered\n",
    "    # such that the first entry in the list is the top-left,\n",
    "    # the second entry is the top-right, the third is the\n",
    "    # bottom-right, and the fourth is the bottom-left\n",
    "    rect = np.zeros((4, 2), dtype=\"float32\")\n",
    "\n",
    "    # the top-left point will have the smallest sum, whereas\n",
    "    # the bottom-right point will have the largest sum\n",
    "    s = pts.sum(axis=1)\n",
    "    rect[0] = pts[np.argmin(s)]\n",
    "    rect[2] = pts[np.argmax(s)]\n",
    "\n",
    "    # now, compute the difference between the points, the\n",
    "    # top-right point will have the smallest difference,\n",
    "    # whereas the bottom-left will have the largest difference\n",
    "    diff = np.diff(pts, axis=1)\n",
    "    rect[1] = pts[np.argmin(diff)]\n",
    "    rect[3] = pts[np.argmax(diff)]\n",
    "\n",
    "    # return the ordered coordinates\n",
    "    return rect"
   ]
  },
  {
   "cell_type": "code",
   "execution_count": 45,
   "metadata": {},
   "outputs": [],
   "source": [
    "def four_point_transform(image, pts):\n",
    "    # obtain a consistent order of the points and unpack them\n",
    "    # individually\n",
    "    rect = order_points(pts)\n",
    "    (tl, tr, br, bl) = rect\n",
    "\n",
    "    # compute the width of the new image, which will be the\n",
    "    # maximum distance between bottom-right and bottom-left\n",
    "    # x-coordiates or the top-right and top-left x-coordinates\n",
    "    widthA = np.sqrt(((br[0] - bl[0]) ** 2) + ((br[1] - bl[1]) ** 2))\n",
    "    widthB = np.sqrt(((tr[0] - tl[0]) ** 2) + ((tr[1] - tl[1]) ** 2))\n",
    "    maxWidth = max(int(widthA), int(widthB))\n",
    "\n",
    "    # compute the height of the new image, which will be the\n",
    "    # maximum distance between the top-right and bottom-right\n",
    "    # y-coordinates or the top-left and bottom-left y-coordinates\n",
    "    heightA = np.sqrt(((tr[0] - br[0]) ** 2) + ((tr[1] - br[1]) ** 2))\n",
    "    heightB = np.sqrt(((tl[0] - bl[0]) ** 2) + ((tl[1] - bl[1]) ** 2))\n",
    "    maxHeight = max(int(heightA), int(heightB))\n",
    "\n",
    "    # now that we have the dimensions of the new image, construct\n",
    "    # the set of destination points to obtain a \"birds eye view\",\n",
    "    # (i.e. top-down view) of the image, again specifying points\n",
    "    # in the top-left, top-right, bottom-right, and bottom-left\n",
    "    # order\n",
    "    dst = np.array([\n",
    "        [0, 0],\n",
    "        [maxWidth - 1, 0],\n",
    "        [maxWidth - 1, maxHeight - 1],\n",
    "        [0, maxHeight - 1]], dtype=\"float32\")\n",
    "    dst = np.array([\n",
    "        [0, 0],\n",
    "        [319, 0],\n",
    "        [319, 319],\n",
    "        [0, 319]], dtype=\"float32\")\n",
    "    \n",
    "    # compute the perspective transform matrix and then apply it\n",
    "    M = cv2.getPerspectiveTransform(rect, dst)\n",
    "    warped = cv2.warpPerspective(image, M, (320, 320))  # maxWidth, maxHeight))\n",
    "\n",
    "    # return the warped image\n",
    "    return warped"
   ]
  },
  {
   "cell_type": "code",
   "execution_count": 46,
   "metadata": {},
   "outputs": [],
   "source": [
    "cv2.namedWindow('rect')\n",
    "cap = cv2.VideoCapture(1)\n",
    "\n",
    "# Reduce the size of video to 320x240 so rpi can process faster\n",
    "# cap.set(3,640)\n",
    "# cap.set(4,480)\n",
    "\n",
    "# camera = PiCamera()\n",
    "# camera.resolution = (640,480)\n",
    "# camera.framerate = 32\n",
    "# rawCapture = PiRGBArray(camera,size=(640,480))\n",
    "# time.sleep(0.1)\n",
    "# for frame in camera.capture_continuous(rawCapture,format=\"bgr\",use_video_port=True):\n",
    "# image = frame.array\n",
    "# img = image\n",
    "\n",
    "# show the image\n",
    "# wait until some key is pressed to procced\n",
    "while True:\n",
    "    _, image = cap.read()\n",
    "    img = image\n",
    "    edges = cv2.Canny(image, 100, 200)\n",
    "    cv2.imshow(\"Canny\", edges)\n",
    "    # contours, hierarchy = cv2.findContours(edges, cv2.RETR_TREE, cv2.CHAIN_APPROX_SIMPLE)\n",
    "    im2, contours, hierarchy = cv2.findContours(\n",
    "        edges, cv2.RETR_TREE, cv2.CHAIN_APPROX_SIMPLE)\n",
    "    \n",
    "    approxCnt = []\n",
    "    for i, cnt in enumerate(contours):\n",
    "        epsilon = 0.001*cv2.arcLength(cnt,True)\n",
    "        approxCnt.append(cv2.approxPolyDP(cnt,epsilon,True))\n",
    "        \n",
    "    squares = [cnt for cnt in approxCnt if len(cnt) < 20]\n",
    "    contours = squares\n",
    "    \n",
    "    colors = np.random.randint(0,255,(len(contours),3))\n",
    "    color = [tuple([int(c) for c in color]) for color in colors]\n",
    "    \n",
    "    contImg = np.zeros((480,640,3), dtype=\"uint8\")\n",
    "    for i, cnt in enumerate(contours):\n",
    "        cv2.drawContours(contImg, contours, i, color[i])\n",
    "    cv2.imshow(\"contours\", contImg)\n",
    "    \n",
    "    mu = []\n",
    "    mc = []\n",
    "    mark = 0\n",
    "    for x in range(0, len(contours)):\n",
    "        mu.append(cv2.moments(contours[x]))\n",
    "\n",
    "    for m in mu:\n",
    "        if m['m00'] != 0:\n",
    "            mc.append((m['m10']/m['m00'], m['m01']/m['m00']))\n",
    "        else:\n",
    "            mc.append((0, 0))\n",
    "\n",
    "    for x in range(0, len(contours)):\n",
    "        k = x\n",
    "        c = 0\n",
    "        while(hierarchy[0][k][2] != -1):\n",
    "            k = hierarchy[0][k][2]\n",
    "            c = c + 1\n",
    "        if hierarchy[0][k][2] != -1:\n",
    "            c = c + 1\n",
    "\n",
    "        if c >= 5:\n",
    "            if mark == 0:\n",
    "                A = x\n",
    "            elif mark == 1:\n",
    "                B = x\n",
    "            elif mark == 2:\n",
    "                C = x\n",
    "            mark = mark+1\n",
    "\n",
    "    if mark > 2:\n",
    "        AB = distance(mc[A], mc[B])\n",
    "        BC = distance(mc[B], mc[C])\n",
    "        AC = distance(mc[A], mc[C])\n",
    "\n",
    "        if(AB > BC and AB > AC):\n",
    "            outlier = C\n",
    "            median1 = A\n",
    "            median2 = B\n",
    "        elif(AC > AB and AC > BC):\n",
    "            outlier = B\n",
    "            median1 = A\n",
    "            median2 = C\n",
    "        elif(BC > AB and BC > AC):\n",
    "            outlier = A\n",
    "            median1 = B\n",
    "            median2 = C\n",
    "\n",
    "        top = outlier\n",
    "        dist = line_equation(mc[median1], mc[median2], mc[outlier])\n",
    "        slope, align = line_slope(mc[median1], mc[median2])\n",
    "\n",
    "        if align == 0:\n",
    "            bottom = median1\n",
    "            right = median2\n",
    "        elif(slope < 0 and dist < 0):\n",
    "            bottom = median1\n",
    "            right = median2\n",
    "            orientation = 0\n",
    "        elif(slope > 0 and dist < 0):\n",
    "            right = median1\n",
    "            bottom = median2\n",
    "            orientation = 1\n",
    "        elif(slope < 0 and dist > 0):\n",
    "            right = median1\n",
    "            bottom = median2\n",
    "            orientation = 2\n",
    "        elif(slope > 0 and dist > 0):\n",
    "            bottom = median1\n",
    "            right = median2\n",
    "            orientation = 3\n",
    "\n",
    "        areatop = 0.0\n",
    "        arearight = 0.0\n",
    "        areabottom = 0.0\n",
    "        if(top < len(contours) and right < len(contours) and bottom < len(contours) \n",
    "           and cv2.contourArea(contours[top]) > 10 \n",
    "           and cv2.contourArea(contours[right]) > 10 \n",
    "           and cv2.contourArea(contours[bottom]) > 10):\n",
    "            tempL = []\n",
    "            tempM = []\n",
    "            tempO = []\n",
    "            src = []\n",
    "            N = (0, 0)\n",
    "            tempL = get_vertices(contours, top, slope, tempL)\n",
    "            tempM = get_vertices(contours, right, slope, tempM)\n",
    "            tempO = get_vertices(contours, bottom, slope, tempO)\n",
    "            L = update_corner_or(orientation, tempL)\n",
    "            M = update_corner_or(orientation, tempM)\n",
    "            O = update_corner_or(orientation, tempO)\n",
    "\n",
    "            iflag, N = get_intersection(M[1], M[2], O[3], O[2], N)\n",
    "            src.append(L[0])\n",
    "            src.append(M[1])\n",
    "            src.append(N)\n",
    "            src.append(O[3])\n",
    "            src = np.asarray(src, np.float32)\n",
    "            warped1 = four_point_transform(img, src)\n",
    "            warped = warped1\n",
    "            # sw added to rotate image to correct orientation for visual purposes only - not needed for zbar\n",
    "            rowsrot, colsrot, dummy = warped1.shape\n",
    "            # print rowsrot, colsrot, dummy\n",
    "            if orientation > 0:\n",
    "                Mrot = cv2.getRotationMatrix2D(\n",
    "                    (colsrot/2, rowsrot/2), (90 * orientation), 1)\n",
    "                warped = cv2.warpAffine(warped1, Mrot, (colsrot, rowsrot))\n",
    "            cv2.imshow(\"warped\", warped)\n",
    "            cv2.circle(img, N, 1, (0, 0, 255), 2)\n",
    "            cv2.drawContours(img, contours, top, (255, 0, 0), 2)\n",
    "            cv2.drawContours(img, contours, right, (0, 255, 0), 2)\n",
    "            cv2.drawContours(img, contours, bottom, (0, 0, 255), 2)\n",
    "            warped = cv2.cvtColor(warped, cv2.COLOR_BGR2GRAY)\n",
    "            # scanner = zbar.ImageScanner()\n",
    "            # scanner.parse_config('enable')\n",
    "            # imagez = zbar.Image(\n",
    "            #     warped.shape[0], warped.shape[1], 'Y800', warped.tostring())\n",
    "            # scanner.scan(imagez)\n",
    "            decoded = pyzbar.decode(warped)\n",
    "\n",
    "            for symbol in decoded:\n",
    "                x = symbol.data\n",
    "                print(x)\n",
    "                print(int(180.0 * slope / 3.1415926))\n",
    "\n",
    "    cv2.imshow(\"rect\", img)\n",
    "    key = cv2.waitKey(1) & 0xFF\n",
    "    if key == ord(\"q\"):\n",
    "        break\n",
    "\n",
    "cap.release()\n",
    "\n",
    "cv2.destroyAllWindows()\n"
   ]
  },
  {
   "cell_type": "code",
   "execution_count": 33,
   "metadata": {},
   "outputs": [],
   "source": [
    "cv2.destroyAllWindows()\n",
    "cap.release()"
   ]
  },
  {
   "cell_type": "code",
   "execution_count": 70,
   "metadata": {},
   "outputs": [],
   "source": [
    "lenCnts = [len(c) for c in contours if True]"
   ]
  },
  {
   "cell_type": "code",
   "execution_count": 27,
   "metadata": {},
   "outputs": [],
   "source": [
    "approxCnt = []\n",
    "for i, cnt in enumerate(contours):\n",
    "    epsilon = 0.05*cv2.arcLength(cnt,True)\n",
    "    approxCnt.append(cv2.approxPolyDP(cnt,epsilon,True))"
   ]
  },
  {
   "cell_type": "code",
   "execution_count": 30,
   "metadata": {},
   "outputs": [],
   "source": [
    "squares = [cnt for cnt in approxCnt if len(cnt) = 4]"
   ]
  },
  {
   "cell_type": "code",
   "execution_count": 19,
   "metadata": {},
   "outputs": [],
   "source": [
    "contImg = np.zeros((480,640,3), dtype=\"uint8\")\n",
    "colors = np.random.randint(0,255,(len(contours),3))\n",
    "color = [tuple([int(c) for c in color]) for color in colors]\n",
    "for i, cnt in enumerate(squares):\n",
    "     cv2.drawContours(contImg, squares, i, color[i])\n",
    "cv2.imshow('contImg', contImg)\n",
    "cv2.waitKey(0)\n",
    "cv2.destroyAllWindows()"
   ]
  },
  {
   "cell_type": "code",
   "execution_count": 52,
   "metadata": {},
   "outputs": [
    {
     "data": {
      "text/plain": [
       "(249, 155, 113)"
      ]
     },
     "execution_count": 52,
     "metadata": {},
     "output_type": "execute_result"
    }
   ],
   "source": [
    "color = np.random.randint(0,255,(len(contours),3))\n",
    "tuple(color[1])"
   ]
  },
  {
   "cell_type": "code",
   "execution_count": 108,
   "metadata": {},
   "outputs": [
    {
     "data": {
      "text/plain": [
       "[2,\n",
       " 20,\n",
       " 36,\n",
       " 17,\n",
       " 31,\n",
       " 25,\n",
       " 9,\n",
       " 155,\n",
       " 479,\n",
       " 132,\n",
       " 196,\n",
       " 208,\n",
       " 193,\n",
       " 190,\n",
       " 51,\n",
       " 56,\n",
       " 35,\n",
       " 34,\n",
       " 25,\n",
       " 25,\n",
       " 50,\n",
       " 46,\n",
       " 36,\n",
       " 36,\n",
       " 25,\n",
       " 22,\n",
       " 51,\n",
       " 52,\n",
       " 35,\n",
       " 34,\n",
       " 19,\n",
       " 23,\n",
       " 423]"
      ]
     },
     "execution_count": 108,
     "metadata": {},
     "output_type": "execute_result"
    }
   ],
   "source": [
    "len(contours)\n",
    "[len(cnt) for cnt in contours]"
   ]
  },
  {
   "cell_type": "code",
   "execution_count": 110,
   "metadata": {},
   "outputs": [
    {
     "data": {
      "text/plain": [
       "[2, 4, 2, 2]"
      ]
     },
     "execution_count": 110,
     "metadata": {},
     "output_type": "execute_result"
    }
   ],
   "source": [
    "[len(cnt) for cnt in approxCnt if len(cnt) <= 4]"
   ]
  },
  {
   "cell_type": "code",
   "execution_count": 81,
   "metadata": {},
   "outputs": [
    {
     "data": {
      "text/plain": [
       "array([195, 104], dtype=int32)"
      ]
     },
     "execution_count": 81,
     "metadata": {},
     "output_type": "execute_result"
    }
   ],
   "source": [
    "(contours[top][25])[0]"
   ]
  },
  {
   "cell_type": "code",
   "execution_count": null,
   "metadata": {},
   "outputs": [],
   "source": [
    "point_x"
   ]
  },
  {
   "cell_type": "code",
   "execution_count": 63,
   "metadata": {},
   "outputs": [
    {
     "ename": "TypeError",
     "evalue": "only size-1 arrays can be converted to Python scalars",
     "output_type": "error",
     "traceback": [
      "\u001b[1;31m---------------------------------------------------------------------------\u001b[0m",
      "\u001b[1;31mTypeError\u001b[0m                                 Traceback (most recent call last)",
      "\u001b[1;32m<ipython-input-63-ab3acb226ef2>\u001b[0m in \u001b[0;36m<module>\u001b[1;34m\u001b[0m\n\u001b[1;32m----> 1\u001b[1;33m \u001b[0mtempL\u001b[0m \u001b[1;33m=\u001b[0m \u001b[0mget_vertices\u001b[0m\u001b[1;33m(\u001b[0m\u001b[0mcontours\u001b[0m\u001b[1;33m,\u001b[0m \u001b[0mtop\u001b[0m\u001b[1;33m,\u001b[0m \u001b[0mslope\u001b[0m\u001b[1;33m,\u001b[0m \u001b[0mtempL\u001b[0m\u001b[1;33m)\u001b[0m\u001b[1;33m\u001b[0m\u001b[0m\n\u001b[0m",
      "\u001b[1;32m<ipython-input-53-b6006e98b827>\u001b[0m in \u001b[0;36mget_vertices\u001b[1;34m(contours, cid, slope, quad)\u001b[0m\n\u001b[0;32m     28\u001b[0m                 \u001b[0mdmax\u001b[0m\u001b[1;33m[\u001b[0m\u001b[1;36m2\u001b[0m\u001b[1;33m]\u001b[0m\u001b[1;33m,\u001b[0m \u001b[0mM2\u001b[0m \u001b[1;33m=\u001b[0m \u001b[0mupdate_corner\u001b[0m\u001b[1;33m(\u001b[0m\u001b[0mcontours\u001b[0m\u001b[1;33m[\u001b[0m\u001b[0mcid\u001b[0m\u001b[1;33m]\u001b[0m\u001b[1;33m[\u001b[0m\u001b[0mi\u001b[0m\u001b[1;33m]\u001b[0m\u001b[1;33m,\u001b[0m \u001b[0mX\u001b[0m\u001b[1;33m,\u001b[0m \u001b[0mdmax\u001b[0m\u001b[1;33m[\u001b[0m\u001b[1;36m2\u001b[0m\u001b[1;33m]\u001b[0m\u001b[1;33m,\u001b[0m \u001b[0mM2\u001b[0m\u001b[1;33m)\u001b[0m\u001b[1;33m\u001b[0m\u001b[0m\n\u001b[0;32m     29\u001b[0m             \u001b[1;32melif\u001b[0m\u001b[1;33m(\u001b[0m\u001b[0mpd1\u001b[0m \u001b[1;33m<=\u001b[0m \u001b[1;36m0.0\u001b[0m \u001b[1;32mand\u001b[0m \u001b[0mpd2\u001b[0m \u001b[1;33m<\u001b[0m \u001b[1;36m0.0\u001b[0m\u001b[1;33m)\u001b[0m\u001b[1;33m:\u001b[0m \u001b[1;31m# Górny Lewy\u001b[0m\u001b[1;33m\u001b[0m\u001b[0m\n\u001b[1;32m---> 30\u001b[1;33m                 \u001b[0mdmax\u001b[0m\u001b[1;33m[\u001b[0m\u001b[1;36m3\u001b[0m\u001b[1;33m]\u001b[0m\u001b[1;33m,\u001b[0m \u001b[0mM3\u001b[0m \u001b[1;33m=\u001b[0m \u001b[0mupdate_corner\u001b[0m\u001b[1;33m(\u001b[0m\u001b[0mcontours\u001b[0m\u001b[1;33m[\u001b[0m\u001b[0mcid\u001b[0m\u001b[1;33m]\u001b[0m\u001b[1;33m[\u001b[0m\u001b[0mi\u001b[0m\u001b[1;33m]\u001b[0m\u001b[1;33m,\u001b[0m \u001b[0mY\u001b[0m\u001b[1;33m,\u001b[0m \u001b[0mdmax\u001b[0m\u001b[1;33m[\u001b[0m\u001b[1;36m3\u001b[0m\u001b[1;33m]\u001b[0m\u001b[1;33m,\u001b[0m \u001b[0mM3\u001b[0m\u001b[1;33m)\u001b[0m\u001b[1;33m\u001b[0m\u001b[0m\n\u001b[0m\u001b[0;32m     31\u001b[0m             \u001b[1;32melif\u001b[0m\u001b[1;33m(\u001b[0m\u001b[0mpd1\u001b[0m \u001b[1;33m<\u001b[0m \u001b[1;36m0\u001b[0m \u001b[1;32mand\u001b[0m \u001b[0mpd2\u001b[0m \u001b[1;33m>=\u001b[0m \u001b[1;36m0.0\u001b[0m\u001b[1;33m)\u001b[0m\u001b[1;33m:\u001b[0m \u001b[1;31m#Górny Prawy\u001b[0m\u001b[1;33m\u001b[0m\u001b[0m\n\u001b[0;32m     32\u001b[0m                 \u001b[0mdmax\u001b[0m\u001b[1;33m[\u001b[0m\u001b[1;36m0\u001b[0m\u001b[1;33m]\u001b[0m\u001b[1;33m,\u001b[0m \u001b[0mM0\u001b[0m \u001b[1;33m=\u001b[0m \u001b[0mupdate_corner\u001b[0m\u001b[1;33m(\u001b[0m\u001b[0mcontours\u001b[0m\u001b[1;33m[\u001b[0m\u001b[0mcid\u001b[0m\u001b[1;33m]\u001b[0m\u001b[1;33m[\u001b[0m\u001b[0mi\u001b[0m\u001b[1;33m]\u001b[0m\u001b[1;33m,\u001b[0m \u001b[0mZ\u001b[0m\u001b[1;33m,\u001b[0m \u001b[0mdmax\u001b[0m\u001b[1;33m[\u001b[0m\u001b[1;36m0\u001b[0m\u001b[1;33m]\u001b[0m\u001b[1;33m,\u001b[0m \u001b[0mM0\u001b[0m\u001b[1;33m)\u001b[0m\u001b[1;33m\u001b[0m\u001b[0m\n",
      "\u001b[1;32m<ipython-input-52-cd1ae779316e>\u001b[0m in \u001b[0;36mupdate_corner\u001b[1;34m(p, ref, baseline, corner)\u001b[0m\n\u001b[0;32m      1\u001b[0m \u001b[1;32mdef\u001b[0m \u001b[0mupdate_corner\u001b[0m\u001b[1;33m(\u001b[0m\u001b[0mp\u001b[0m\u001b[1;33m,\u001b[0m \u001b[0mref\u001b[0m\u001b[1;33m,\u001b[0m \u001b[0mbaseline\u001b[0m\u001b[1;33m,\u001b[0m \u001b[0mcorner\u001b[0m\u001b[1;33m)\u001b[0m\u001b[1;33m:\u001b[0m\u001b[1;33m\u001b[0m\u001b[0m\n\u001b[0;32m      2\u001b[0m     \u001b[1;34m'''Update given baseline and corner if distance from p to red is greater'''\u001b[0m\u001b[1;33m\u001b[0m\u001b[0m\n\u001b[1;32m----> 3\u001b[1;33m     \u001b[0mtemp_dist\u001b[0m \u001b[1;33m=\u001b[0m \u001b[0mdistance\u001b[0m\u001b[1;33m(\u001b[0m\u001b[0mp\u001b[0m\u001b[1;33m,\u001b[0m \u001b[0mref\u001b[0m\u001b[1;33m)\u001b[0m\u001b[1;33m\u001b[0m\u001b[0m\n\u001b[0m\u001b[0;32m      4\u001b[0m     \u001b[1;32mif\u001b[0m \u001b[0mtemp_dist\u001b[0m \u001b[1;33m>\u001b[0m \u001b[0mbaseline\u001b[0m\u001b[1;33m:\u001b[0m\u001b[1;33m\u001b[0m\u001b[0m\n\u001b[0;32m      5\u001b[0m         \u001b[0mbaseline\u001b[0m \u001b[1;33m=\u001b[0m \u001b[0mtemp_dist\u001b[0m\u001b[1;33m\u001b[0m\u001b[0m\n",
      "\u001b[1;32m<ipython-input-48-496a7ca44bcd>\u001b[0m in \u001b[0;36mdistance\u001b[1;34m(point_x, point_y)\u001b[0m\n\u001b[0;32m      1\u001b[0m \u001b[1;32mdef\u001b[0m \u001b[0mdistance\u001b[0m\u001b[1;33m(\u001b[0m\u001b[0mpoint_x\u001b[0m\u001b[1;33m,\u001b[0m \u001b[0mpoint_y\u001b[0m\u001b[1;33m)\u001b[0m\u001b[1;33m:\u001b[0m\u001b[1;33m\u001b[0m\u001b[0m\n\u001b[0;32m      2\u001b[0m     \u001b[1;34m\"\"\" Calculate distance between two points. \"\"\"\u001b[0m\u001b[1;33m\u001b[0m\u001b[0m\n\u001b[1;32m----> 3\u001b[1;33m     \u001b[1;32mreturn\u001b[0m \u001b[0mmath\u001b[0m\u001b[1;33m.\u001b[0m\u001b[0msqrt\u001b[0m\u001b[1;33m(\u001b[0m\u001b[0mmath\u001b[0m\u001b[1;33m.\u001b[0m\u001b[0mpow\u001b[0m\u001b[1;33m(\u001b[0m\u001b[0mmath\u001b[0m\u001b[1;33m.\u001b[0m\u001b[0mfabs\u001b[0m\u001b[1;33m(\u001b[0m\u001b[0mpoint_x\u001b[0m\u001b[1;33m[\u001b[0m\u001b[1;36m0\u001b[0m\u001b[1;33m]\u001b[0m\u001b[1;33m-\u001b[0m\u001b[0mpoint_y\u001b[0m\u001b[1;33m[\u001b[0m\u001b[1;36m0\u001b[0m\u001b[1;33m]\u001b[0m\u001b[1;33m)\u001b[0m\u001b[1;33m,\u001b[0m \u001b[1;36m2\u001b[0m\u001b[1;33m)\u001b[0m \u001b[1;33m+\u001b[0m \u001b[0mmath\u001b[0m\u001b[1;33m.\u001b[0m\u001b[0mpow\u001b[0m\u001b[1;33m(\u001b[0m\u001b[0mmath\u001b[0m\u001b[1;33m.\u001b[0m\u001b[0mfabs\u001b[0m\u001b[1;33m(\u001b[0m\u001b[0mpoint_x\u001b[0m\u001b[1;33m[\u001b[0m\u001b[1;36m1\u001b[0m\u001b[1;33m]\u001b[0m\u001b[1;33m-\u001b[0m\u001b[0mpoint_y\u001b[0m\u001b[1;33m[\u001b[0m\u001b[1;36m1\u001b[0m\u001b[1;33m]\u001b[0m\u001b[1;33m)\u001b[0m\u001b[1;33m,\u001b[0m \u001b[1;36m2\u001b[0m\u001b[1;33m)\u001b[0m\u001b[1;33m)\u001b[0m\u001b[1;33m\u001b[0m\u001b[0m\n\u001b[0m",
      "\u001b[1;31mTypeError\u001b[0m: only size-1 arrays can be converted to Python scalars"
     ]
    }
   ],
   "source": [
    "tempL = get_vertices(contours, top, slope, tempL)"
   ]
  },
  {
   "cell_type": "code",
   "execution_count": 78,
   "metadata": {},
   "outputs": [
    {
     "data": {
      "text/plain": [
       "array([193, 102], dtype=int32)"
      ]
     },
     "execution_count": 78,
     "metadata": {},
     "output_type": "execute_result"
    }
   ],
   "source": [
    "contours[top][0][0]"
   ]
  },
  {
   "cell_type": "code",
   "execution_count": null,
   "metadata": {},
   "outputs": [],
   "source": []
  }
 ],
 "metadata": {
  "kernelspec": {
   "display_name": "Python 3",
   "language": "python",
   "name": "python3"
  },
  "language_info": {
   "codemirror_mode": {
    "name": "ipython",
    "version": 3
   },
   "file_extension": ".py",
   "mimetype": "text/x-python",
   "name": "python",
   "nbconvert_exporter": "python",
   "pygments_lexer": "ipython3",
   "version": "3.6.5"
  }
 },
 "nbformat": 4,
 "nbformat_minor": 2
}
