{
 "cells": [
  {
   "cell_type": "code",
   "execution_count": 23,
   "metadata": {},
   "outputs": [],
   "source": [
    "import numpy as np\n",
    "import cv2 as cv\n",
    "import math\n",
    "from os.path import normpath\n",
    "import copy\n",
    "import dill\n",
    "# import pickle"
   ]
  },
  {
   "cell_type": "code",
   "execution_count": 21,
   "metadata": {},
   "outputs": [],
   "source": [
    "###################### GLOBAL SYSTEM STATE ########################\n",
    "\n",
    "# class for a generic data holder\n",
    "class Data:\n",
    "    def __init__(self): pass    # empty constructor\n",
    "    \n",
    "# object (of class Data) to hold the global state of the system\n",
    "D = Data()\n",
    "\n",
    "\n",
    "class Tadro:\n",
    "    def __init__(self, time, position, heading):\n",
    "        #in either frames or milliseconds\n",
    "        self.time = time\n",
    "        self.position = position\n",
    "        \n",
    "        #angle with respect to the x axis\n",
    "        self.heading = heading\n",
    "\n",
    "D.GREEN = 0\n",
    "D.BLUE = 1 \n",
    "\n",
    "#################### YOU NEED TO SET THESE! #######################\n",
    "\n",
    "#specify the filepath to the video (inside normpath!)\n",
    "D.VIDEO_PATH = normpath(\"C:/Users/barte/Documents/Studia VII/Image_processing/Assets/Green_Blue_Led.avi\")\n",
    "#D.VIDEO_PATH = normpath(r'C:/Users/barte/Documents/Studia VII/Image_processing/Assets/Green_Blue_Led.avi')\n",
    "#D.VIDEO_PATH = 1\n",
    "\n",
    "#the number of frames to skip to get to the beginning of the tadro's swimming\n",
    "D.NUM_FRAMES_TO_SKIP = 0\n",
    "\n",
    "#play vid in a loop for testing purposes\n",
    "D.PLAY_IN_LOOP = True\n",
    "#the number of frames to skip in between each image processing iteration\n",
    "D.FRAME_RATE = 0\n",
    "\n",
    "#whether or not to use preset thresholding values from thresh.txt\n",
    "D.AUTO_LOAD_THRESHOLDS = False\n",
    "\n",
    "#do you want to see the Tadro video (Graphical User Interface) as it is processed?\n",
    "D.USE_GUI = True\n",
    "\n",
    "#save the data to a file\n",
    "D.SAVE_POSNS = True\n",
    "\n",
    "#whether or not to use a video of camera calibration to subtract the pool background\n",
    "D.CAMERA_CALIBRATION_SUBTRACT = False\n",
    "\n",
    "#the path to a camera calibration video (should be matched with the supplied Tadro video)\n",
    "D.CAMERA_CALIBRATION_PATH = None#normpath(\"C:/Users/barte/Documents/Studia VII/Image_processing/Assets/Green_Blue_Led.MP4\")\n",
    "\n",
    "D.NUM_CALIBRATION_FRAMES_TO_SKIP = 0\n",
    "\n",
    "#Use adaptive thresholding to reduce image noise\n",
    "D.ADAPTIVE_THRESHOLD = False\n",
    "\n",
    "#this doesn't work - keep False\n",
    "D.BACKGROUND_EXTRACTION = False\n",
    "\n",
    "# do you want small windows (about 320 x 240)\n",
    "D.half_size = False\n",
    "\n"
   ]
  },
  {
   "cell_type": "code",
   "execution_count": 22,
   "metadata": {},
   "outputs": [],
   "source": [
    "file_name = \"globalD.pkl\"\n",
    "with open(file_name,'wb') as my_file_obj:\n",
    "    dill.dump(D, my_file_obj)\n",
    "    # pickle.dump(Dglob, my_file_obj)"
   ]
  },
  {
   "cell_type": "code",
   "execution_count": null,
   "metadata": {},
   "outputs": [],
   "source": []
  },
  {
   "cell_type": "code",
   "execution_count": null,
   "metadata": {},
   "outputs": [],
   "source": []
  }
 ],
 "metadata": {
  "kernelspec": {
   "display_name": "Python 3",
   "language": "python",
   "name": "python3"
  },
  "language_info": {
   "codemirror_mode": {
    "name": "ipython",
    "version": 3
   },
   "file_extension": ".py",
   "mimetype": "text/x-python",
   "name": "python",
   "nbconvert_exporter": "python",
   "pygments_lexer": "ipython3",
   "version": "3.6.7"
  }
 },
 "nbformat": 4,
 "nbformat_minor": 2
}
