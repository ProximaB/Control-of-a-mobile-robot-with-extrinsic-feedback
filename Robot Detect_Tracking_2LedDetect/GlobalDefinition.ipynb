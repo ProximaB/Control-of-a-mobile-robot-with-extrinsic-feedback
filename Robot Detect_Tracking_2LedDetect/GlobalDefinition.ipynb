{
 "cells": [
  {
   "cell_type": "code",
   "execution_count": 1,
   "metadata": {},
   "outputs": [
    {
     "ename": "ModuleNotFoundError",
     "evalue": "No module named 'dill'",
     "output_type": "error",
     "traceback": [
      "\u001b[1;31m---------------------------------------------------------------------------\u001b[0m",
      "\u001b[1;31mModuleNotFoundError\u001b[0m                       Traceback (most recent call last)",
      "\u001b[1;32m<ipython-input-1-5fcdfb5b657b>\u001b[0m in \u001b[0;36m<module>\u001b[1;34m\u001b[0m\n\u001b[0;32m      4\u001b[0m \u001b[1;32mfrom\u001b[0m \u001b[0mos\u001b[0m\u001b[1;33m.\u001b[0m\u001b[0mpath\u001b[0m \u001b[1;32mimport\u001b[0m \u001b[0mnormpath\u001b[0m\u001b[1;33m\u001b[0m\u001b[1;33m\u001b[0m\u001b[0m\n\u001b[0;32m      5\u001b[0m \u001b[1;32mimport\u001b[0m \u001b[0mcopy\u001b[0m\u001b[1;33m\u001b[0m\u001b[1;33m\u001b[0m\u001b[0m\n\u001b[1;32m----> 6\u001b[1;33m \u001b[1;32mimport\u001b[0m \u001b[0mdill\u001b[0m\u001b[1;33m\u001b[0m\u001b[1;33m\u001b[0m\u001b[0m\n\u001b[0m\u001b[0;32m      7\u001b[0m \u001b[1;31m# import pickle\u001b[0m\u001b[1;33m\u001b[0m\u001b[1;33m\u001b[0m\u001b[1;33m\u001b[0m\u001b[0m\n",
      "\u001b[1;31mModuleNotFoundError\u001b[0m: No module named 'dill'"
     ]
    }
   ],
   "source": [
    "import numpy as np\n",
    "import cv2 as cv\n",
    "import math\n",
    "from os.path import normpath\n",
    "import copy\n",
    "import dill\n",
    "# import pickle"
   ]
  },
  {
   "cell_type": "code",
   "execution_count": 5,
   "metadata": {},
   "outputs": [],
   "source": [
    "###################### GLOBAL SYSTEM STATE ########################\n",
    "\n",
    "# class for a generic data holder\n",
    "class Data:\n",
    "    def __init__(self): pass    # empty constructor\n",
    "    \n",
    "# object (of class Data) to hold the global state of the system\n",
    "D = Data()\n",
    "\n",
    "\n",
    "class Tadro:\n",
    "    def __init__(self, time, position, heading):\n",
    "        #in either frames or milliseconds\n",
    "        self.time = time\n",
    "        self.position = position\n",
    "        \n",
    "        #angle with respect to the x axis\n",
    "        self.heading = heading\n",
    "\n",
    "\t\t\n",
    "\n",
    "D.GREEN = 0\n",
    "D.BLUE = 1 \n",
    "\n",
    "#################### YOU NEED TO SET THESE! #######################\n",
    "\n",
    "#specify the filepath to the video (inside normpath!)\n",
    "D.VIDEO_PATH = normpath(\"C:/Users/RoboMaster/Documents/INSPIRE GRANT/Tadro Tracking/GOPR0442.mp4\")\n",
    "\n",
    "#the number of frames to skip to get to the beginning of the tadro's swimming\n",
    "D.NUM_FRAMES_TO_SKIP = 1000\n",
    "\n",
    "#the number of frames to skip in between each image processing iteration\n",
    "D.FRAME_RATE = 120\n",
    "\n",
    "#whether or not to use preset thresholding values from thresh.txt\n",
    "D.AUTO_LOAD_THRESHOLDS = False\n",
    "\n",
    "#do you want to see the Tadro video (Graphical User Interface) as it is processed?\n",
    "D.USE_GUI = True\n",
    "\n",
    "#save the data to a file\n",
    "D.SAVE_POSNS = True\n",
    "\n",
    "#whether or not to use a video of camera calibration to subtract the pool background\n",
    "D.CAMERA_CALIBRATION_SUBTRACT = False\n",
    "\n",
    "#the path to a camera calibration video (should be matched with the supplied Tadro video)\n",
    "D.CAMERA_CALIBRATION_PATH = normpath(\"C:/Users/RoboMaster/Documents/INSPIRE GRANT/Tadro Tracking/Camera Calibration.mp4\")\n",
    "\n",
    "D.NUM_CALIBRATION_FRAMES_TO_SKIP = 500\n",
    "\n",
    "#Use adaptive thresholding to reduce image noise\n",
    "D.ADAPTIVE_THRESHOLD = False\n",
    "\n",
    "#this doesn't work - keep False\n",
    "D.BACKGROUND_EXTRACTION = False\n",
    "\n",
    "# do you want small windows (about 320 x 240)\n",
    "D.half_size = False"
   ]
  },
  {
   "cell_type": "code",
   "execution_count": 9,
   "metadata": {},
   "outputs": [],
   "source": [
    "file_name = \"globalD.pkl\"\n",
    "with open(file_name,'wb') as my_file_obj:\n",
    "    dill.dump(D, my_file_obj)\n",
    "    # pickle.dump(Dglob, my_file_obj)"
   ]
  },
  {
   "cell_type": "code",
   "execution_count": null,
   "metadata": {},
   "outputs": [],
   "source": []
  }
 ],
 "metadata": {
  "kernelspec": {
   "display_name": "Python 3",
   "language": "python",
   "name": "python3"
  },
  "language_info": {
   "codemirror_mode": {
    "name": "ipython",
    "version": 3
   },
   "file_extension": ".py",
   "mimetype": "text/x-python",
   "name": "python",
   "nbconvert_exporter": "python",
   "pygments_lexer": "ipython3",
   "version": "3.6.7"
  }
 },
 "nbformat": 4,
 "nbformat_minor": 2
}
