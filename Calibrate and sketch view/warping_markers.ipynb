{
 "cells": [
  {
   "cell_type": "code",
   "execution_count": 9,
   "metadata": {},
   "outputs": [],
   "source": [
    "import numpy as np\n",
    "import matplotlib.pyplot as plt\n",
    "import matplotlib.image as mpimg\n",
    "from skimage import exposure\n",
    "import cv2\n",
    "import cv2.aruco as aruco"
   ]
  },
  {
   "cell_type": "code",
   "execution_count": 19,
   "metadata": {},
   "outputs": [
    {
     "name": "stdout",
     "output_type": "stream",
     "text": [
      "(480, 640, 3)\n"
     ]
    }
   ],
   "source": [
    "image = cv2.imread('work_space/work_space_photo20181119_030253.jpg')\n",
    "print(image.shape)\n",
    "orig = image.copy()\n",
    "gray = cv2.cvtColor(image, cv2.COLOR_RGB2GRAY)\n",
    "gray = cv2.bilateralFilter(gray, 15, 15, 15)\n",
    "cv2.imshow('bilateral', gray)\n",
    "cv2.waitKey(0)\n",
    "cv2.destroyAllWindows()"
   ]
  },
  {
   "cell_type": "code",
   "execution_count": 20,
   "metadata": {},
   "outputs": [],
   "source": [
    "aruco_dict = aruco.Dictionary_get(aruco.DICT_6X6_250)\n",
    "parameters = aruco.DetectorParameters_create()\n",
    "corners, ids, rejectedImgPoints = aruco.detectMarkers(gray, aruco_dict, parameters=parameters)\n",
    "preview = aruco.drawDetectedMarkers(image, corners)\n",
    "cv2.imshow('preview', preview)\n",
    "cv2.waitKey(0)\n",
    "cv2.destroyAllWindows()"
   ]
  },
  {
   "cell_type": "code",
   "execution_count": 45,
   "metadata": {},
   "outputs": [
    {
     "data": {
      "text/plain": [
       "[array([[[554., 364.],\n",
       "         [600., 365.],\n",
       "         [604., 412.],\n",
       "         [557., 411.]]], dtype=float32), array([[[ 70., 355.],\n",
       "         [ 64., 399.],\n",
       "         [ 21., 397.],\n",
       "         [ 27., 352.]]], dtype=float32), array([[[105., 100.],\n",
       "         [ 68., 100.],\n",
       "         [ 76.,  72.],\n",
       "         [111.,  71.]]], dtype=float32), array([[[531.,  95.],\n",
       "         [528.,  61.],\n",
       "         [569.,  60.],\n",
       "         [573.,  94.]]], dtype=float32)]"
      ]
     },
     "execution_count": 45,
     "metadata": {},
     "output_type": "execute_result"
    }
   ],
   "source": [
    "corners"
   ]
  },
  {
   "cell_type": "code",
   "execution_count": 98,
   "metadata": {},
   "outputs": [],
   "source": [
    "genPts = (v[0][0] for v in corners)\n",
    "pts = np.stack(genPts)\n",
    "rect = np.zeros((4, 2), dtype=\"float32\")"
   ]
  },
  {
   "cell_type": "code",
   "execution_count": 99,
   "metadata": {},
   "outputs": [],
   "source": [
    "s = pts.sum(axis=1)\n",
    "rect[0] = pts[np.argmin(s)]\n",
    "rect[2] = pts[np.argmax(s)]\n",
    "\n",
    "diff = np.diff(pts, axis=1)\n",
    "rect[1] = pts[np.argmin(diff)]\n",
    "rect[3] = pts[np.argmax(diff)]\n",
    "\n",
    "(tl, tr, br, bl) = rect"
   ]
  },
  {
   "cell_type": "code",
   "execution_count": 153,
   "metadata": {},
   "outputs": [],
   "source": [
    "widthA = np.sqrt(((br[0] - bl[0]) ** 2) + ((br[1] - bl[1]) ** 2))\n",
    "widthB = np.sqrt(((tr[0] - tl[0]) ** 2) + ((tr[1] - tl[1]) ** 2))\n",
    "\n",
    "heightA = np.sqrt(((tr[0] - br[0]) ** 2) + ((tr[1] - br[1]) ** 2))\n",
    "heightB = np.sqrt(((tl[0] - bl[0]) ** 2) + ((tl[1] - bl[1]) ** 2))\n",
    "\n",
    "maxWidth = max(int(widthA), int(widthB))\n",
    "maxHeight = max(int(heightA), int(heightB))\n",
    "\n",
    "dst = np.array([\n",
    "    [0, 0],\n",
    "    [maxWidth - 1, 0],\n",
    "    [maxWidth - 1, maxHeight - 1],\n",
    "    [0, maxHeight - 1]], dtype=\"float32\")\n",
    "\n",
    "M = cv2.getPerspectiveTransform(rect, dst)\n",
    "warp = cv2.warpPerspective(orig, M, (maxWidth, maxHeight))\n",
    "cv2.imshow('wrap image', warp)\n",
    "cv2.waitKey(0)\n",
    "\n",
    "warp = cv2.cvtColor(warp, cv2.COLOR_BGR2GRAY)\n",
    "warp = exposure.rescale_intensity(warp, out_range=(0, 255))\n",
    "\n",
    "cv2.imshow(\"image\", image)\n",
    "cv2.imshow(\"warp\", warp)\n",
    "cv2.waitKey(0)\n",
    "cv2.destroyAllWindows()"
   ]
  },
  {
   "cell_type": "code",
   "execution_count": 154,
   "metadata": {},
   "outputs": [
    {
     "ename": "error",
     "evalue": "OpenCV(3.4.1) C:\\bld\\opencv_1520732263159\\work\\opencv-3.4.1\\modules\\imgproc\\src\\drawing.cpp:2441: error: (-215) p.checkVector(2, 4) >= 0 in function cv::polylines\n",
     "output_type": "error",
     "traceback": [
      "\u001b[1;31m---------------------------------------------------------------------------\u001b[0m",
      "\u001b[1;31merror\u001b[0m                                     Traceback (most recent call last)",
      "\u001b[1;32m<ipython-input-154-93906a1a8f17>\u001b[0m in \u001b[0;36m<module>\u001b[1;34m\u001b[0m\n\u001b[0;32m      5\u001b[0m     \u001b[0mx\u001b[0m\u001b[1;33m,\u001b[0m\u001b[0my\u001b[0m \u001b[1;33m=\u001b[0m \u001b[0mi\u001b[0m\u001b[1;33m.\u001b[0m\u001b[0mravel\u001b[0m\u001b[1;33m(\u001b[0m\u001b[1;33m)\u001b[0m\u001b[1;33m\u001b[0m\u001b[0m\n\u001b[0;32m      6\u001b[0m     \u001b[0mcv2\u001b[0m\u001b[1;33m.\u001b[0m\u001b[0mcircle\u001b[0m\u001b[1;33m(\u001b[0m\u001b[0mimage1\u001b[0m\u001b[1;33m,\u001b[0m\u001b[1;33m(\u001b[0m\u001b[0mx\u001b[0m\u001b[1;33m,\u001b[0m\u001b[0my\u001b[0m\u001b[1;33m)\u001b[0m\u001b[1;33m,\u001b[0m\u001b[1;36m7\u001b[0m\u001b[1;33m,\u001b[0m\u001b[1;33m(\u001b[0m\u001b[1;36m255\u001b[0m\u001b[1;33m,\u001b[0m\u001b[1;36m0\u001b[0m\u001b[1;33m,\u001b[0m\u001b[1;36m0\u001b[0m\u001b[1;33m)\u001b[0m\u001b[1;33m,\u001b[0m\u001b[1;33m-\u001b[0m\u001b[1;36m1\u001b[0m\u001b[1;33m)\u001b[0m\u001b[1;33m\u001b[0m\u001b[0m\n\u001b[1;32m----> 7\u001b[1;33m \u001b[0mcv2\u001b[0m\u001b[1;33m.\u001b[0m\u001b[0mpolylines\u001b[0m\u001b[1;33m(\u001b[0m\u001b[0mimage1\u001b[0m\u001b[1;33m,\u001b[0m\u001b[0mnp\u001b[0m\u001b[1;33m.\u001b[0m\u001b[0mstack\u001b[0m\u001b[1;33m(\u001b[0m\u001b[0mpts\u001b[0m\u001b[1;33m)\u001b[0m\u001b[1;33m,\u001b[0m \u001b[1;32mTrue\u001b[0m\u001b[1;33m,\u001b[0m \u001b[1;33m(\u001b[0m\u001b[1;36m0\u001b[0m\u001b[1;33m,\u001b[0m\u001b[1;36m255\u001b[0m\u001b[1;33m,\u001b[0m\u001b[1;36m0\u001b[0m\u001b[1;33m)\u001b[0m\u001b[1;33m)\u001b[0m\u001b[1;33m\u001b[0m\u001b[0m\n\u001b[0m\u001b[0;32m      8\u001b[0m \u001b[0mf\u001b[0m\u001b[1;33m,\u001b[0m \u001b[1;33m(\u001b[0m\u001b[0max1\u001b[0m\u001b[1;33m,\u001b[0m \u001b[0max2\u001b[0m\u001b[1;33m)\u001b[0m \u001b[1;33m=\u001b[0m \u001b[0mplt\u001b[0m\u001b[1;33m.\u001b[0m\u001b[0msubplots\u001b[0m\u001b[1;33m(\u001b[0m\u001b[1;36m1\u001b[0m\u001b[1;33m,\u001b[0m \u001b[1;36m2\u001b[0m\u001b[1;33m,\u001b[0m \u001b[0mfigsize\u001b[0m\u001b[1;33m=\u001b[0m\u001b[1;33m(\u001b[0m\u001b[1;36m24\u001b[0m\u001b[1;33m,\u001b[0m \u001b[1;36m9\u001b[0m\u001b[1;33m)\u001b[0m\u001b[1;33m)\u001b[0m\u001b[1;33m\u001b[0m\u001b[0m\n\u001b[0;32m      9\u001b[0m \u001b[0mf\u001b[0m\u001b[1;33m.\u001b[0m\u001b[0mtight_layout\u001b[0m\u001b[1;33m(\u001b[0m\u001b[1;33m)\u001b[0m\u001b[1;33m\u001b[0m\u001b[0m\n",
      "\u001b[1;31merror\u001b[0m: OpenCV(3.4.1) C:\\bld\\opencv_1520732263159\\work\\opencv-3.4.1\\modules\\imgproc\\src\\drawing.cpp:2441: error: (-215) p.checkVector(2, 4) >= 0 in function cv::polylines\n"
     ]
    }
   ],
   "source": [
    "image_path = './work_space/work_space_photo20181119_030253.jpg'\n",
    "image1 = mpimg.imread(image_path)\n",
    "\n",
    "for i in np.stack(pts):\n",
    "    x,y = i.ravel()\n",
    "    cv2.circle(image1,(x,y),7,(255,0,0),-1)\n",
    "cv2.polylines(image1,np.stack(pts), True, (0,255,0))\n",
    "f, (ax1, ax2) = plt.subplots(1, 2, figsize=(24, 9))\n",
    "f.tight_layout()\n",
    "ax1.imshow(image1)\n",
    "ax1.set_title('Before warping', fontsize=50)\n",
    "ax2.imshow(warp, cmap='gray')\n",
    "#ax2.set_title('After', fontsize=50)\n",
    "plt.subplots_adjust(left=0., right=1, top=0.9, bottom=0.)\n",
    "plt.show()"
   ]
  },
  {
   "cell_type": "code",
   "execution_count": 158,
   "metadata": {},
   "outputs": [
    {
     "data": {
      "text/plain": [
       "array([[554, 364],\n",
       "       [ 70, 355],\n",
       "       [105, 100],\n",
       "       [531,  95]])"
      ]
     },
     "execution_count": 158,
     "metadata": {},
     "output_type": "execute_result"
    }
   ],
   "source": [
    "pts.astype(np.int32)"
   ]
  },
  {
   "cell_type": "code",
   "execution_count": 118,
   "metadata": {},
   "outputs": [
    {
     "data": {
      "text/plain": [
       "[array([[[554., 364.],\n",
       "         [600., 365.],\n",
       "         [604., 412.],\n",
       "         [557., 411.]]], dtype=float32), array([[[ 70., 355.],\n",
       "         [ 64., 399.],\n",
       "         [ 21., 397.],\n",
       "         [ 27., 352.]]], dtype=float32), array([[[105., 100.],\n",
       "         [ 68., 100.],\n",
       "         [ 76.,  72.],\n",
       "         [111.,  71.]]], dtype=float32), array([[[531.,  95.],\n",
       "         [528.,  61.],\n",
       "         [569.,  60.],\n",
       "         [573.,  94.]]], dtype=float32)]"
      ]
     },
     "execution_count": 118,
     "metadata": {},
     "output_type": "execute_result"
    }
   ],
   "source": [
    "corners"
   ]
  },
  {
   "cell_type": "code",
   "execution_count": null,
   "metadata": {},
   "outputs": [],
   "source": []
  }
 ],
 "metadata": {
  "kernelspec": {
   "display_name": "Python 3",
   "language": "python",
   "name": "python3"
  },
  "language_info": {
   "codemirror_mode": {
    "name": "ipython",
    "version": 3
   },
   "file_extension": ".py",
   "mimetype": "text/x-python",
   "name": "python",
   "nbconvert_exporter": "python",
   "pygments_lexer": "ipython3",
   "version": "3.6.5"
  }
 },
 "nbformat": 4,
 "nbformat_minor": 2
}
