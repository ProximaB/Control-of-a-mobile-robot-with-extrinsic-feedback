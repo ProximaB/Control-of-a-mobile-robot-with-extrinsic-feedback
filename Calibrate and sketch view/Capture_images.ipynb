{
 "cells": [
  {
   "cell_type": "code",
   "execution_count": 70,
   "metadata": {},
   "outputs": [],
   "source": [
    "import numpy as np\n",
    "import argparse\n",
    "import cv2\n",
    "import os\n",
    "from datetime import datetime\n",
    "from PIL import Image"
   ]
  },
  {
   "cell_type": "code",
   "execution_count": 71,
   "metadata": {},
   "outputs": [],
   "source": [
    "def save_img(file_name, img, saveTo):\n",
    "    if not os.path.exists(saveTo):\n",
    "        os.makedirs(saveTo)\n",
    "    img = img[:,:,::-1]\n",
    "    img = Image.fromarray(img)\n",
    "\n",
    "    try:\n",
    "        img.save(saveTo + \"/\" + file_name + \".jpeg\", resolution=100.0)\n",
    "    except Exception as ex:\n",
    "        print(\"Error while saving file.\")\n",
    "        print(ex)\n",
    "        return False\n",
    "    else: return True"
   ]
  },
  {
   "cell_type": "code",
   "execution_count": 80,
   "metadata": {},
   "outputs": [],
   "source": [
    "\n",
    "def capture_images(camId = 0, path = f'{os.path.abspath(os.curdir)}\\checkerboards_cal'):\n",
    "    font                   = cv2.FONT_HERSHEY_DUPLEX\n",
    "    position               = (15,50)\n",
    "    fontScale              = 1.3\n",
    "    fontColor              = (255,255,255)\n",
    "    lineType               = 2\n",
    "\n",
    "    cap = cv2.VideoCapture(camId)\n",
    "    while True:\n",
    "        ret, frame = cap.read()\n",
    "        if ret is False: \n",
    "            return\n",
    "        gray = cv2.cvtColor(frame, cv2.COLOR_BGR2GRAY)\n",
    "        ret, corners = cv2.findChessboardCorners(gray, (8, 6), None)\n",
    "        if corners is not None:\n",
    "            for i in corners:\n",
    "                x,y = i.ravel()\n",
    "                cv2.circle(frame,(x,y),5,(0,0,255),-1)\n",
    "        key =  cv2.waitKey(30) & 0xFF\n",
    "        if key == ord('q'):\n",
    "            break\n",
    "        elif key == ord('s'):\n",
    "            img = frame.copy()\n",
    "            cv2.putText(frame,'To save click S, to pass P', \n",
    "                position, \n",
    "                font, \n",
    "                fontScale,\n",
    "                fontColor,\n",
    "                lineType)\n",
    "            cv2.imshow('frame', frame)\n",
    "            doSave = cv2.waitKey(0)  & 0xFF\n",
    "            if doSave == ord('s'):\n",
    "                gene_name = f'Checkerboard_ + {datetime.now():%Y%m%d_%H%M%S}'\n",
    "                res = save_img(gene_name, img, path) \n",
    "                if res is True: print(f\"Saved: {os.path.abspath(os.curdir)}\\\\checkerboards_cal\\\\{gene_name}\")\n",
    "                else: continue\n",
    "        cv2.imshow('frame', frame)\n",
    "    cap.release\n",
    "    cv2.destroyAllWindows()\n",
    "        "
   ]
  },
  {
   "cell_type": "code",
   "execution_count": null,
   "metadata": {},
   "outputs": [
    {
     "name": "stdout",
     "output_type": "stream",
     "text": [
      "Saved: C:\\Users\\barte\\Documents\\Studia VII\\Image_processing\\Calibrate and sketch view\\checkerboards_cal\\Checkerboard_ + 20181118_163534\n",
      "Saved: C:\\Users\\barte\\Documents\\Studia VII\\Image_processing\\Calibrate and sketch view\\checkerboards_cal\\Checkerboard_ + 20181118_163540\n",
      "Saved: C:\\Users\\barte\\Documents\\Studia VII\\Image_processing\\Calibrate and sketch view\\checkerboards_cal\\Checkerboard_ + 20181118_163609\n",
      "Saved: C:\\Users\\barte\\Documents\\Studia VII\\Image_processing\\Calibrate and sketch view\\checkerboards_cal\\Checkerboard_ + 20181118_163622\n",
      "Saved: C:\\Users\\barte\\Documents\\Studia VII\\Image_processing\\Calibrate and sketch view\\checkerboards_cal\\Checkerboard_ + 20181118_163631\n",
      "Saved: C:\\Users\\barte\\Documents\\Studia VII\\Image_processing\\Calibrate and sketch view\\checkerboards_cal\\Checkerboard_ + 20181118_163640\n",
      "Saved: C:\\Users\\barte\\Documents\\Studia VII\\Image_processing\\Calibrate and sketch view\\checkerboards_cal\\Checkerboard_ + 20181118_163654\n",
      "Saved: C:\\Users\\barte\\Documents\\Studia VII\\Image_processing\\Calibrate and sketch view\\checkerboards_cal\\Checkerboard_ + 20181118_163724\n",
      "Saved: C:\\Users\\barte\\Documents\\Studia VII\\Image_processing\\Calibrate and sketch view\\checkerboards_cal\\Checkerboard_ + 20181118_163737\n",
      "Saved: C:\\Users\\barte\\Documents\\Studia VII\\Image_processing\\Calibrate and sketch view\\checkerboards_cal\\Checkerboard_ + 20181118_163743\n",
      "Saved: C:\\Users\\barte\\Documents\\Studia VII\\Image_processing\\Calibrate and sketch view\\checkerboards_cal\\Checkerboard_ + 20181118_163749\n",
      "Saved: C:\\Users\\barte\\Documents\\Studia VII\\Image_processing\\Calibrate and sketch view\\checkerboards_cal\\Checkerboard_ + 20181118_163801\n",
      "Saved: C:\\Users\\barte\\Documents\\Studia VII\\Image_processing\\Calibrate and sketch view\\checkerboards_cal\\Checkerboard_ + 20181118_163806\n",
      "Saved: C:\\Users\\barte\\Documents\\Studia VII\\Image_processing\\Calibrate and sketch view\\checkerboards_cal\\Checkerboard_ + 20181118_163821\n",
      "Saved: C:\\Users\\barte\\Documents\\Studia VII\\Image_processing\\Calibrate and sketch view\\checkerboards_cal\\Checkerboard_ + 20181118_163829\n",
      "Saved: C:\\Users\\barte\\Documents\\Studia VII\\Image_processing\\Calibrate and sketch view\\checkerboards_cal\\Checkerboard_ + 20181118_163837\n"
     ]
    }
   ],
   "source": [
    "capture_images(1)"
   ]
  },
  {
   "cell_type": "code",
   "execution_count": null,
   "metadata": {},
   "outputs": [],
   "source": [
    "os.path.abspath(os.curdir)"
   ]
  },
  {
   "cell_type": "code",
   "execution_count": null,
   "metadata": {},
   "outputs": [],
   "source": []
  }
 ],
 "metadata": {
  "kernelspec": {
   "display_name": "Python 3",
   "language": "python",
   "name": "python3"
  },
  "language_info": {
   "codemirror_mode": {
    "name": "ipython",
    "version": 3
   },
   "file_extension": ".py",
   "mimetype": "text/x-python",
   "name": "python",
   "nbconvert_exporter": "python",
   "pygments_lexer": "ipython3",
   "version": "3.6.5"
  }
 },
 "nbformat": 4,
 "nbformat_minor": 2
}
