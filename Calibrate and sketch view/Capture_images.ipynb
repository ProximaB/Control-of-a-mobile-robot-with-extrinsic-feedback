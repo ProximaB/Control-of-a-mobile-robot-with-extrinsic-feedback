{
 "cells": [
  {
   "cell_type": "code",
   "execution_count": 11,
   "metadata": {},
   "outputs": [],
   "source": [
    "import numpy as np\n",
    "import argparse\n",
    "import cv2\n",
    "import os\n",
    "from datetime import datetime\n",
    "from PIL import Image\n",
    "import pickle"
   ]
  },
  {
   "cell_type": "code",
   "execution_count": 2,
   "metadata": {},
   "outputs": [],
   "source": [
    "def save_img(file_name, img, saveTo):\n",
    "    if not os.path.exists(saveTo):\n",
    "        os.makedirs(saveTo)\n",
    "    img = img[:,:,::-1]\n",
    "    img = Image.fromarray(img)\n",
    "\n",
    "    try:\n",
    "        img.save(saveTo + \"/\" + file_name + \".jpg\", resolution=100.0)\n",
    "    except Exception as ex:\n",
    "        print(\"Error while saving file.\")\n",
    "        print(ex)\n",
    "        return False\n",
    "    else: return True"
   ]
  },
  {
   "cell_type": "code",
   "execution_count": 60,
   "metadata": {},
   "outputs": [],
   "source": [
    "\n",
    "def capture_save_calibrate_images(camId = 0, name_prefix = 'Checkerboard_', path = f'{os.path.abspath(os.curdir)}\\\\checkerboards_cal'): \n",
    "    font                   = cv2.FONT_HERSHEY_DUPLEX\n",
    "    position               = (15,50)\n",
    "    fontScale              = 1.3\n",
    "    fontColor              = (255,255,255)\n",
    "    lineType               = 2\n",
    "\n",
    "    cap = cv2.VideoCapture(camId)\n",
    "    \n",
    "    while True:\n",
    "        ret, frame = cap.read()\n",
    "        if ret is False: \n",
    "            return\n",
    "        img = frame.copy()\n",
    "        gray = cv2.cvtColor(frame, cv2.COLOR_BGR2GRAY)\n",
    "        ret, corners = cv2.findChessboardCorners(gray, (8, 6), None)\n",
    "        \n",
    "        if corners is not None:\n",
    "            for i in corners:\n",
    "                x,y = i.ravel()\n",
    "                cv2.circle(frame,(x,y),5,(0,0,255),-1)\n",
    "                \n",
    "        key =  cv2.waitKey(30) & 0xFF\n",
    "        if key == ord('q'):\n",
    "            print('quited')\n",
    "            break\n",
    "        elif key == ord('s'):\n",
    "            cv2.putText(frame,'To save click S, to pass P', \n",
    "                position, \n",
    "                font, \n",
    "                fontScale,\n",
    "                fontColor,\n",
    "                lineType)\n",
    "            cv2.imshow('frame', frame)\n",
    "            doSave = cv2.waitKey(0)  & 0xFF\n",
    "            if doSave == ord('s'):\n",
    "                gene_name = f'{name_prefix}{datetime.now():%Y%m%d_%H%M%S}'\n",
    "                res = save_img(gene_name, img, path) \n",
    "                if res is True: print(f\"Saved: {os.path.abspath(os.curdir)}\\\\checkerboards_cal\\\\{gene_name}\")\n",
    "            else: continue\n",
    "        cv2.imshow('frame', frame)\n",
    "    cap.release\n",
    "    cv2.destroyAllWindows()\n",
    "        "
   ]
  },
  {
   "cell_type": "code",
   "execution_count": 61,
   "metadata": {},
   "outputs": [
    {
     "name": "stdout",
     "output_type": "stream",
     "text": [
      "quited\n"
     ]
    }
   ],
   "source": [
    "capture_save_calibrate_images(1)"
   ]
  },
  {
   "cell_type": "code",
   "execution_count": 5,
   "metadata": {},
   "outputs": [],
   "source": [
    "def cal_undistort(img, objpoints, imgpoints):\n",
    "    gray = cv2.cvtColor(img, cv2.COLOR_RGB2GRAY)\n",
    "    ret, mtx, dist, rvecs, tvecs = cv2.calibrateCamera(\n",
    "        objpoints, imgpoints, gray.shape[::-1], None, None)\n",
    "    undist = cv2.undistort(img, mtx, dist, None, mtx)\n",
    "    return undist, mtx, dist"
   ]
  },
  {
   "cell_type": "code",
   "execution_count": 12,
   "metadata": {},
   "outputs": [],
   "source": [
    "\n",
    "def capture_save_undistort_img(camId = 0, name_prefix = 'work_space_photo', path = f'{os.path.abspath(os.curdir)}\\work_space',\n",
    "                                  calib_data_file = None): \n",
    "    font                   = cv2.FONT_HERSHEY_DUPLEX\n",
    "    position               = (15,50)\n",
    "    fontScale              = 1.3\n",
    "    fontColor              = (255,255,255)\n",
    "    lineType               = 2\n",
    "\n",
    "    cap = cv2.VideoCapture(camId)\n",
    "    \n",
    "    do_undistort = False\n",
    "    if calib_data_file is not None:\n",
    "        try:\n",
    "            data_file = open(calib_data_file, 'rb')\n",
    "        except: \n",
    "                print('Calibration data Not loaded.')\n",
    "                return\n",
    "            \n",
    "        calib_data = pickle.load(data_file)\n",
    "        data_file.close()\n",
    "        mtx = calib_data['mtx'][0]\n",
    "        dist = calib_data['dist'][0]\n",
    "        do_undistort = True\n",
    "        print('Calibration data loaded.')\n",
    "            \n",
    "    while True:\n",
    "        ret, frame = cap.read()\n",
    "        if ret is False: \n",
    "            return\n",
    "        if do_undistort is True:\n",
    "            frame = cv2.undistort(frame,mtx,dist,None,mtx)\n",
    "        img = frame.copy()\n",
    "                \n",
    "        key =  cv2.waitKey(30) & 0xFF\n",
    "        if key == ord('q'):\n",
    "            print('quited')\n",
    "            break\n",
    "        elif key == ord('s'):\n",
    "            cv2.putText(frame,'To save click S, to pass P', \n",
    "                position, \n",
    "                font, \n",
    "                fontScale,\n",
    "                fontColor,\n",
    "                lineType)\n",
    "            cv2.imshow('frame', frame)\n",
    "            doSave = cv2.waitKey(0)  & 0xFF\n",
    "            if doSave == ord('s'):\n",
    "                gene_name = f'{name_prefix}{datetime.now():%Y%m%d_%H%M%S}'\n",
    "                res = save_img(gene_name, img, path) \n",
    "                if res is True: print(f\"Saved: {os.path.abspath(os.curdir)}\\\\checkerboards_cal\\\\{gene_name}\")\n",
    "            else: continue\n",
    "        cv2.imshow('frame', frame)\n",
    "    cap.release\n",
    "    cv2.destroyAllWindows()\n",
    "        "
   ]
  },
  {
   "cell_type": "code",
   "execution_count": 13,
   "metadata": {},
   "outputs": [
    {
     "name": "stdout",
     "output_type": "stream",
     "text": [
      "Calibration data loaded.\n",
      "Saved: C:\\Users\\barte\\Documents\\Studia VII\\Image_processing\\Calibrate and sketch view\\checkerboards_cal\\work_space_photo20181119_030253\n",
      "quited\n"
     ]
    }
   ],
   "source": [
    "capture_save_undistort_img(1, calib_data_file='cam_calibration_data.p')"
   ]
  },
  {
   "cell_type": "code",
   "execution_count": 83,
   "metadata": {},
   "outputs": [
    {
     "data": {
      "text/plain": [
       "'C:\\\\Users\\\\barte\\\\Documents\\\\Studia VII\\\\Image_processing\\\\Calibrate and sketch view'"
      ]
     },
     "execution_count": 83,
     "metadata": {},
     "output_type": "execute_result"
    }
   ],
   "source": [
    "os.path.abspath(os.curdir)"
   ]
  },
  {
   "cell_type": "code",
   "execution_count": 98,
   "metadata": {},
   "outputs": [],
   "source": [
    "data_file = open('cam_calibration_data.p', 'rb')\n",
    "calib_data = pickle.load(data_file)\n",
    "mtx = calib_data['mtx']\n",
    "dist = calib_data['dist']\n",
    "data_file.close()"
   ]
  },
  {
   "cell_type": "code",
   "execution_count": 100,
   "metadata": {},
   "outputs": [
    {
     "data": {
      "text/plain": [
       "array([[[163,   0,  72],\n",
       "        [  0, 166, 206],\n",
       "        [  0,   0,   1]]], dtype=uint8)"
      ]
     },
     "execution_count": 100,
     "metadata": {},
     "output_type": "execute_result"
    }
   ],
   "source": [
    "np.array(mtx, dtype='uint8')"
   ]
  },
  {
   "cell_type": "code",
   "execution_count": 101,
   "metadata": {},
   "outputs": [
    {
     "data": {
      "text/plain": [
       "(array([[2.21190685e+03, 0.00000000e+00, 3.28922080e+02],\n",
       "        [0.00000000e+00, 2.21431413e+03, 2.06185061e+02],\n",
       "        [0.00000000e+00, 0.00000000e+00, 1.00000000e+00]]),)"
      ]
     },
     "execution_count": 101,
     "metadata": {},
     "output_type": "execute_result"
    }
   ],
   "source": [
    "mtx"
   ]
  },
  {
   "cell_type": "code",
   "execution_count": null,
   "metadata": {},
   "outputs": [],
   "source": []
  }
 ],
 "metadata": {
  "kernelspec": {
   "display_name": "Python 3",
   "language": "python",
   "name": "python3"
  },
  "language_info": {
   "codemirror_mode": {
    "name": "ipython",
    "version": 3
   },
   "file_extension": ".py",
   "mimetype": "text/x-python",
   "name": "python",
   "nbconvert_exporter": "python",
   "pygments_lexer": "ipython3",
   "version": "3.6.7"
  }
 },
 "nbformat": 4,
 "nbformat_minor": 2
}
