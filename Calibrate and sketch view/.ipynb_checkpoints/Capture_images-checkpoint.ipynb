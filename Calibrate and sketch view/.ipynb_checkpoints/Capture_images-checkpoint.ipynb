{
 "cells": [
  {
   "cell_type": "code",
   "execution_count": 2,
   "metadata": {},
   "outputs": [],
   "source": [
    "import numpy as np\n",
    "import argparse\n",
    "import cv2\n",
    "import os\n",
    "from datetime import datetime\n",
    "from PIL import Image\n",
    "import pickle"
   ]
  },
  {
   "cell_type": "code",
   "execution_count": 3,
   "metadata": {},
   "outputs": [],
   "source": [
    "def save_img(file_name, img, saveTo):\n",
    "    if not os.path.exists(saveTo):\n",
    "        os.makedirs(saveTo)\n",
    "    img = img[:,:,::-1]\n",
    "    img = Image.fromarray(img)\n",
    "\n",
    "    try:\n",
    "        img.save(saveTo + \"/\" + file_name + \".jpg\", resolution=100.0)\n",
    "    except Exception as ex:\n",
    "        print(\"Error while saving file.\")\n",
    "        print(ex)\n",
    "        return False\n",
    "    else: return True"
   ]
  },
  {
   "cell_type": "code",
   "execution_count": 4,
   "metadata": {},
   "outputs": [],
   "source": [
    "\n",
    "def capture_save_calibrate_images(camId = 1, name_prefix = 'Checkerboard_', path = f'{os.path.abspath(os.curdir)}\\\\checkerboards_cal'): \n",
    "    font                   = cv2.FONT_HERSHEY_DUPLEX\n",
    "    position               = (15,50)\n",
    "    fontScale              = 1.3\n",
    "    fontColor              = (255,255,255)\n",
    "    lineType               = 2\n",
    "\n",
    "    cap = cv2.VideoCapture(camId)\n",
    "    \n",
    "    while True:\n",
    "        ret, frame = cap.read()\n",
    "        if ret is False: \n",
    "            return\n",
    "        img = frame.copy()\n",
    "        gray = cv2.cvtColor(frame, cv2.COLOR_BGR2GRAY)\n",
    "        ret, corners = cv2.findChessboardCorners(gray, (8, 6), None)\n",
    "        \n",
    "        if corners is not None:\n",
    "            for i in corners:\n",
    "                x,y = i.ravel()\n",
    "                cv2.circle(frame,(x,y),5,(0,0,255),-1)\n",
    "                \n",
    "        key =  cv2.waitKey(30) & 0xFF\n",
    "        if key == ord('q'):\n",
    "            print('quited')\n",
    "            break\n",
    "        elif key == ord('s'):\n",
    "            cv2.putText(frame,'To save click S, to pass P', \n",
    "                position, \n",
    "                font, \n",
    "                fontScale,\n",
    "                fontColor,\n",
    "                lineType)\n",
    "            cv2.imshow('frame', frame)\n",
    "            doSave = cv2.waitKey(0)  & 0xFF\n",
    "            if doSave == ord('s'):\n",
    "                gene_name = f'{name_prefix}{datetime.now():%Y%m%d_%H%M%S}'\n",
    "                res = save_img(gene_name, img, path) \n",
    "                if res is True: print(f\"Saved: {os.path.abspath(os.curdir)}\\\\checkerboards_cal\\\\{gene_name}\")\n",
    "            else: continue\n",
    "        cv2.imshow('frame', frame)\n",
    "    cap.release\n",
    "    cv2.destroyAllWindows()\n",
    "        "
   ]
  },
  {
   "cell_type": "code",
   "execution_count": 7,
   "metadata": {},
   "outputs": [
    {
     "ename": "KeyboardInterrupt",
     "evalue": "",
     "output_type": "error",
     "traceback": [
      "\u001b[1;31m---------------------------------------------------------------------------\u001b[0m",
      "\u001b[1;31mKeyboardInterrupt\u001b[0m                         Traceback (most recent call last)",
      "\u001b[1;32m<ipython-input-7-232881b8e425>\u001b[0m in \u001b[0;36m<module>\u001b[1;34m\u001b[0m\n\u001b[1;32m----> 1\u001b[1;33m \u001b[0mcapture_save_calibrate_images\u001b[0m\u001b[1;33m(\u001b[0m\u001b[1;36m1\u001b[0m\u001b[1;33m)\u001b[0m\u001b[1;33m\u001b[0m\u001b[1;33m\u001b[0m\u001b[0m\n\u001b[0m",
      "\u001b[1;32m<ipython-input-6-0e47c9995acb>\u001b[0m in \u001b[0;36mcapture_save_calibrate_images\u001b[1;34m(camId, name_prefix, path)\u001b[0m\n\u001b[0;32m     15\u001b[0m         \u001b[0mimg\u001b[0m \u001b[1;33m=\u001b[0m \u001b[0mframe\u001b[0m\u001b[1;33m.\u001b[0m\u001b[0mcopy\u001b[0m\u001b[1;33m(\u001b[0m\u001b[1;33m)\u001b[0m\u001b[1;33m\u001b[0m\u001b[1;33m\u001b[0m\u001b[0m\n\u001b[0;32m     16\u001b[0m         \u001b[0mgray\u001b[0m \u001b[1;33m=\u001b[0m \u001b[0mcv2\u001b[0m\u001b[1;33m.\u001b[0m\u001b[0mcvtColor\u001b[0m\u001b[1;33m(\u001b[0m\u001b[0mframe\u001b[0m\u001b[1;33m,\u001b[0m \u001b[0mcv2\u001b[0m\u001b[1;33m.\u001b[0m\u001b[0mCOLOR_BGR2GRAY\u001b[0m\u001b[1;33m)\u001b[0m\u001b[1;33m\u001b[0m\u001b[1;33m\u001b[0m\u001b[0m\n\u001b[1;32m---> 17\u001b[1;33m         \u001b[0mret\u001b[0m\u001b[1;33m,\u001b[0m \u001b[0mcorners\u001b[0m \u001b[1;33m=\u001b[0m \u001b[0mcv2\u001b[0m\u001b[1;33m.\u001b[0m\u001b[0mfindChessboardCorners\u001b[0m\u001b[1;33m(\u001b[0m\u001b[0mgray\u001b[0m\u001b[1;33m,\u001b[0m \u001b[1;33m(\u001b[0m\u001b[1;36m8\u001b[0m\u001b[1;33m,\u001b[0m \u001b[1;36m6\u001b[0m\u001b[1;33m)\u001b[0m\u001b[1;33m,\u001b[0m \u001b[1;32mNone\u001b[0m\u001b[1;33m)\u001b[0m\u001b[1;33m\u001b[0m\u001b[1;33m\u001b[0m\u001b[0m\n\u001b[0m\u001b[0;32m     18\u001b[0m \u001b[1;33m\u001b[0m\u001b[0m\n\u001b[0;32m     19\u001b[0m         \u001b[1;32mif\u001b[0m \u001b[0mcorners\u001b[0m \u001b[1;32mis\u001b[0m \u001b[1;32mnot\u001b[0m \u001b[1;32mNone\u001b[0m\u001b[1;33m:\u001b[0m\u001b[1;33m\u001b[0m\u001b[1;33m\u001b[0m\u001b[0m\n",
      "\u001b[1;31mKeyboardInterrupt\u001b[0m: "
     ]
    }
   ],
   "source": [
    "capture_save_calibrate_images(1)"
   ]
  },
  {
   "cell_type": "code",
   "execution_count": 8,
   "metadata": {},
   "outputs": [],
   "source": [
    "def cal_undistort(img, objpoints, imgpoints):\n",
    "    gray = cv2.cvtColor(img, cv2.COLOR_RGB2GRAY)\n",
    "    ret, mtx, dist, rvecs, tvecs = cv2.calibrateCamera(\n",
    "        objpoints, imgpoints, gray.shape[::-1], None, None)\n",
    "    undist = cv2.undistort(img, mtx, dist, None, mtx)\n",
    "    return undist, mtx, dist"
   ]
  },
  {
   "cell_type": "code",
   "execution_count": 9,
   "metadata": {},
   "outputs": [],
   "source": [
    "\n",
    "def capture_save_undistort_img(camId = 0, name_prefix = 'work_space_photo', path = f'{os.path.abspath(os.curdir)}\\work_space',\n",
    "                                  calib_data_file = None): \n",
    "    font                   = cv2.FONT_HERSHEY_DUPLEX\n",
    "    position               = (15,50)\n",
    "    fontScale              = 1.3\n",
    "    fontColor              = (255,255,255)\n",
    "    lineType               = 2\n",
    "\n",
    "    cap = cv2.VideoCapture(camId)\n",
    "    \n",
    "    do_undistort = False\n",
    "    if calib_data_file is not None:\n",
    "        try:\n",
    "            data_file = open(calib_data_file, 'rb')\n",
    "        except: \n",
    "                print('Calibration data Not loaded.')\n",
    "                return\n",
    "            \n",
    "        calib_data = pickle.load(data_file)\n",
    "        data_file.close()\n",
    "        mtx = calib_data['mtx'][0]\n",
    "        dist = calib_data['dist'][0]\n",
    "        do_undistort = True\n",
    "        print('Calibration data loaded.')\n",
    "            \n",
    "    while True:\n",
    "        ret, frame = cap.read()\n",
    "        if ret is False: \n",
    "            return\n",
    "        if do_undistort is True:\n",
    "            frame = cv2.undistort(frame,mtx,dist,None,mtx)\n",
    "        img = frame.copy()\n",
    "                \n",
    "        key =  cv2.waitKey(30) & 0xFF\n",
    "        if key == ord('q'):\n",
    "            print('quited')\n",
    "            break\n",
    "        elif key == ord('s'):\n",
    "            cv2.putText(frame,'To save click S, to pass P', \n",
    "                position, \n",
    "                font, \n",
    "                fontScale,\n",
    "                fontColor,\n",
    "                lineType)\n",
    "            cv2.imshow('frame', frame)\n",
    "            doSave = cv2.waitKey(0)  & 0xFF\n",
    "            if doSave == ord('s'):\n",
    "                gene_name = f'{name_prefix}{datetime.now():%Y%m%d_%H%M%S}'\n",
    "                res = save_img(gene_name, img, path) \n",
    "                if res is True: print(f\"Saved: {os.path.abspath(os.curdir)}\\\\checkerboards_cal\\\\{gene_name}\")\n",
    "            else: continue\n",
    "        cv2.imshow('frame', frame)\n",
    "    cap.release\n",
    "    cv2.destroyAllWindows()\n",
    "        "
   ]
  },
  {
   "cell_type": "code",
   "execution_count": null,
   "metadata": {},
   "outputs": [
    {
     "name": "stdout",
     "output_type": "stream",
     "text": [
      "Calibration data loaded.\n"
     ]
    }
   ],
   "source": [
    "capture_save_undistort_img(1, calib_data_file='cam_calibration_data.p')"
   ]
  },
  {
   "cell_type": "code",
   "execution_count": null,
   "metadata": {},
   "outputs": [],
   "source": [
    "os.path.abspath(os.curdir)"
   ]
  },
  {
   "cell_type": "code",
   "execution_count": 1,
   "metadata": {},
   "outputs": [
    {
     "ename": "NameError",
     "evalue": "name 'pickle' is not defined",
     "output_type": "error",
     "traceback": [
      "\u001b[1;31m---------------------------------------------------------------------------\u001b[0m",
      "\u001b[1;31mNameError\u001b[0m                                 Traceback (most recent call last)",
      "\u001b[1;32m<ipython-input-1-e44ff660a30a>\u001b[0m in \u001b[0;36m<module>\u001b[1;34m\u001b[0m\n\u001b[0;32m      1\u001b[0m \u001b[0mdata_file\u001b[0m \u001b[1;33m=\u001b[0m \u001b[0mopen\u001b[0m\u001b[1;33m(\u001b[0m\u001b[1;34m'cam_calibration_data.p'\u001b[0m\u001b[1;33m,\u001b[0m \u001b[1;34m'rb'\u001b[0m\u001b[1;33m)\u001b[0m\u001b[1;33m\u001b[0m\u001b[1;33m\u001b[0m\u001b[0m\n\u001b[1;32m----> 2\u001b[1;33m \u001b[0mcalib_data\u001b[0m \u001b[1;33m=\u001b[0m \u001b[0mpickle\u001b[0m\u001b[1;33m.\u001b[0m\u001b[0mload\u001b[0m\u001b[1;33m(\u001b[0m\u001b[0mdata_file\u001b[0m\u001b[1;33m)\u001b[0m\u001b[1;33m\u001b[0m\u001b[1;33m\u001b[0m\u001b[0m\n\u001b[0m\u001b[0;32m      3\u001b[0m \u001b[0mmtx\u001b[0m \u001b[1;33m=\u001b[0m \u001b[0mcalib_data\u001b[0m\u001b[1;33m[\u001b[0m\u001b[1;34m'mtx'\u001b[0m\u001b[1;33m]\u001b[0m\u001b[1;33m\u001b[0m\u001b[1;33m\u001b[0m\u001b[0m\n\u001b[0;32m      4\u001b[0m \u001b[0mdist\u001b[0m \u001b[1;33m=\u001b[0m \u001b[0mcalib_data\u001b[0m\u001b[1;33m[\u001b[0m\u001b[1;34m'dist'\u001b[0m\u001b[1;33m]\u001b[0m\u001b[1;33m\u001b[0m\u001b[1;33m\u001b[0m\u001b[0m\n\u001b[0;32m      5\u001b[0m \u001b[0mdata_file\u001b[0m\u001b[1;33m.\u001b[0m\u001b[0mclose\u001b[0m\u001b[1;33m(\u001b[0m\u001b[1;33m)\u001b[0m\u001b[1;33m\u001b[0m\u001b[1;33m\u001b[0m\u001b[0m\n",
      "\u001b[1;31mNameError\u001b[0m: name 'pickle' is not defined"
     ]
    }
   ],
   "source": [
    "data_file = open('cam_calibration_data.p', 'rb')\n",
    "calib_data = pickle.load(data_file)\n",
    "mtx = calib_data['mtx']\n",
    "dist = calib_data['dist']\n",
    "data_file.close()"
   ]
  },
  {
   "cell_type": "code",
   "execution_count": null,
   "metadata": {},
   "outputs": [],
   "source": [
    "np.array(mtx, dtype='uint8')"
   ]
  },
  {
   "cell_type": "code",
   "execution_count": null,
   "metadata": {},
   "outputs": [],
   "source": [
    "mtx"
   ]
  },
  {
   "cell_type": "code",
   "execution_count": null,
   "metadata": {},
   "outputs": [],
   "source": []
  }
 ],
 "metadata": {
  "kernelspec": {
   "display_name": "Python 3",
   "language": "python",
   "name": "python3"
  },
  "language_info": {
   "codemirror_mode": {
    "name": "ipython",
    "version": 3
   },
   "file_extension": ".py",
   "mimetype": "text/x-python",
   "name": "python",
   "nbconvert_exporter": "python",
   "pygments_lexer": "ipython3",
   "version": "3.6.7"
  }
 },
 "nbformat": 4,
 "nbformat_minor": 2
}
